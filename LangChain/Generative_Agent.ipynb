{
 "cells": [
  {
   "cell_type": "code",
   "execution_count": 6,
   "metadata": {},
   "outputs": [],
   "source": [
    "from datetime import datetime, timedelta\n",
    "from typing import List\n",
    "import math\n",
    "import faiss\n",
    "import os\n",
    "import logging\n",
    "logging.basicConfig(level=logging.ERROR)\n",
    "# from langchain.chat_models import ChatOpenAI\n",
    "from langchain_openai import ChatOpenAI\n",
    "from langchain.docstore import InMemoryDocstore\n",
    "from langchain.embeddings import OpenAIEmbeddings\n",
    "from langchain.retrievers import TimeWeightedVectorStoreRetriever\n",
    "from langchain.vectorstores import FAISS\n",
    "from termcolor import colored\n",
    "from langchain_experimental.generative_agents import (\n",
    "    GenerativeAgent,\n",
    "    GenerativeAgentMemory,\n",
    ")"
   ]
  },
  {
   "cell_type": "code",
   "execution_count": 3,
   "metadata": {},
   "outputs": [],
   "source": [
    "import os\n",
    "from dotenv import load_dotenv\n",
    "\n",
    "load_dotenv()\n",
    "\n",
    "openai_api_key = os.getenv('OPENAI_API_KEY', '')"
   ]
  },
  {
   "cell_type": "code",
   "execution_count": 7,
   "metadata": {},
   "outputs": [],
   "source": [
    "USER_NAME = \"Heena\"  # The name you want to use when interviewing the agent.\n",
    "\n",
    "LLM = ChatOpenAI(max_tokens=1500)  # Can be any LLM you want."
   ]
  },
  {
   "cell_type": "markdown",
   "metadata": {},
   "source": [
    "### Implementing your first Generative Agent"
   ]
  },
  {
   "cell_type": "code",
   "execution_count": 8,
   "metadata": {},
   "outputs": [],
   "source": [
    "def relevance_score_fn(score: float) -> float:\n",
    "    \"\"\"Return a similarity score on a scale [0, 1].\"\"\"\n",
    "    # This will differ depending on a few things:\n",
    "    # - the distance / similarity metric used by the VectorStore\n",
    "    # - the scale of your embeddings (OpenAI's are unit norm. Many others are not!)\n",
    "    # This function converts the euclidean norm of normalized embeddings\n",
    "    # (0 is most similar, sqrt(2) most dissimilar)\n",
    "    # to a similarity function (0 to 1)\n",
    "    return 1.0 - score / math.sqrt(2)\n",
    "\n",
    "\n",
    "def create_new_memory_retriever():\n",
    "    \"\"\"Create a new vector store retriever unique to the agent.\"\"\"\n",
    "    # Define your embedding model\n",
    "    embeddings_model = OpenAIEmbeddings()\n",
    "    # Initialize the vectorstore as empty\n",
    "    embedding_size = 1536\n",
    "    index = faiss.IndexFlatL2(embedding_size)\n",
    "    vectorstore = FAISS(\n",
    "        embeddings_model.embed_query,\n",
    "        index,\n",
    "        InMemoryDocstore({}),\n",
    "        {},\n",
    "        relevance_score_fn=relevance_score_fn,\n",
    "    )\n",
    "    return TimeWeightedVectorStoreRetriever(\n",
    "        vectorstore=vectorstore, other_score_keys=[\"importance\"], k=15\n",
    "    )"
   ]
  },
  {
   "cell_type": "code",
   "execution_count": 9,
   "metadata": {},
   "outputs": [
    {
     "name": "stderr",
     "output_type": "stream",
     "text": [
      "c:\\Users\\heena\\Desktop\\Genetative_AI\\genai_env\\Lib\\site-packages\\langchain_core\\_api\\deprecation.py:119: LangChainDeprecationWarning: The class `OpenAIEmbeddings` was deprecated in LangChain 0.0.9 and will be removed in 0.3.0. An updated version of the class exists in the langchain-openai package and should be used instead. To use it run `pip install -U langchain-openai` and import as `from langchain_openai import OpenAIEmbeddings`.\n",
      "  warn_deprecated(\n"
     ]
    }
   ],
   "source": [
    "alexis_memory = GenerativeAgentMemory(\n",
    "    llm=LLM,\n",
    "    memory_retriever=create_new_memory_retriever(),\n",
    "    verbose=False,\n",
    "    reflection_threshold=8,  # we will give this a relatively low number to show how reflection works\n",
    ")\n",
    "\n",
    "# Defining the Generative Agent: Alexis\n",
    "alexis = GenerativeAgent(\n",
    "    name=\"Alexis\",\n",
    "    age=30,\n",
    "    traits=\"curious, creative writer, world traveler\",  # Persistent traits of Alexis\n",
    "    status=\"exploring the intersection of technology and storytelling\",  # Current status of Alexis\n",
    "    memory_retriever=create_new_memory_retriever(),\n",
    "    llm=LLM,\n",
    "    memory=alexis_memory,\n",
    ")"
   ]
  },
  {
   "cell_type": "code",
   "execution_count": 10,
   "metadata": {},
   "outputs": [
    {
     "name": "stdout",
     "output_type": "stream",
     "text": [
      "Name: Alexis (age: 30)\n",
      "Innate traits: curious, creative writer, world traveler\n",
      "Alexis is a hardworking, determined, and detail-oriented individual who is constantly seeking knowledge and growth in her career. She is passionate and committed to her work, often going above and beyond to achieve her goals. Alexis is also organized and focused, with a strong ability to problem-solve and adapt to different situations.\n"
     ]
    }
   ],
   "source": [
    "print(alexis.get_summary())"
   ]
  },
  {
   "cell_type": "code",
   "execution_count": 11,
   "metadata": {},
   "outputs": [
    {
     "name": "stdout",
     "output_type": "stream",
     "text": [
      "Name: Alexis (age: 30)\n",
      "Innate traits: curious, creative writer, world traveler\n",
      "Alexis is thoughtful, goal-oriented, enjoys socializing with friends, appreciates nature and art, likes reading, and is eager to try new things such as learning a new recipe.\n"
     ]
    }
   ],
   "source": [
    "# We can add memories directly to the memory object\n",
    "\n",
    "alexis_observations = [\n",
    "    \"Alexis recalls her morning walk in the park\",\n",
    "    \"Alexis feels excited about the new book she started reading\",\n",
    "    \"Alexis remembers her conversation with a close friend\",\n",
    "    \"Alexis thinks about the painting she saw at the art gallery\",\n",
    "    \"Alexis is planning to learn a new recipe for dinner\",\n",
    "    \"Alexis is looking forward to her weekend trip\",\n",
    "    \"Alexis contemplates her goals for the month.\"\n",
    "]\n",
    "\n",
    "for observation in alexis_observations:\n",
    "    alexis.memory.add_memory(observation)\n",
    "\n",
    "\n",
    "\n",
    "# We will see how this summary updates after more observations to create a more rich description.\n",
    "print(alexis.get_summary(force_refresh=True))"
   ]
  },
  {
   "cell_type": "markdown",
   "metadata": {},
   "source": [
    "### Interacting and Providing Context to Generative Characters"
   ]
  },
  {
   "cell_type": "markdown",
   "metadata": {},
   "source": [
    "### Pre-Interview with Character\n",
    "Before sending our character on their way, let's ask them a few questions.\n"
   ]
  },
  {
   "cell_type": "code",
   "execution_count": 12,
   "metadata": {},
   "outputs": [],
   "source": [
    "def interview_agent(agent: GenerativeAgent, message: str) -> str:\n",
    "    \"\"\"Help the notebook user interact with the agent.\"\"\"\n",
    "    new_message = f\"{USER_NAME} says {message}\"\n",
    "    return agent.generate_dialogue_response(new_message)[1]"
   ]
  },
  {
   "cell_type": "code",
   "execution_count": 13,
   "metadata": {},
   "outputs": [
    {
     "data": {
      "text/plain": [
       "'Alexis said \"I enjoy writing, traveling, spending time with friends, exploring nature, and trying new things like learning new recipes. How about you, Heena?\"'"
      ]
     },
     "execution_count": 13,
     "metadata": {},
     "output_type": "execute_result"
    }
   ],
   "source": [
    "interview_agent(alexis, \"What do you like to do?\")"
   ]
  },
  {
   "cell_type": "markdown",
   "metadata": {},
   "source": [
    "### Step through the day's observations."
   ]
  },
  {
   "cell_type": "code",
   "execution_count": 14,
   "metadata": {},
   "outputs": [],
   "source": [
    "# Let's give Alexis a series of observations to reflect on her day\n",
    "# Adding observations to Alexis' memory\n",
    "alexis_observations_day = [\n",
    "    \"Alexis starts her day with a refreshing yoga session.\",\n",
    "    \"Alexis spends time writing in her journal.\",\n",
    "    \"Alexis experiments with a new recipe she found online.\",\n",
    "    \"Alexis gets lost in her thoughts while gardening.\",\n",
    "    \"Alexis decides to call her grandmother for a heartfelt chat.\",\n",
    "    \"Alexis relaxes in the evening by playing her favorite piano pieces.\",\n",
    "]\n",
    "\n",
    "for observation in alexis_observations_day:\n",
    "    alexis.memory.add_memory(observation)"
   ]
  },
  {
   "cell_type": "code",
   "execution_count": 15,
   "metadata": {},
   "outputs": [
    {
     "name": "stdout",
     "output_type": "stream",
     "text": [
      "\u001b[32mAlexis starts her day with a refreshing yoga session.\u001b[0m Alexis feels energized and ready to start her day.\n",
      "\u001b[32mAlexis spends time writing in her journal.\u001b[0m Alexis finds solace and clarity in journaling.\n",
      "\u001b[32mAlexis experiments with a new recipe she found online.\u001b[0m Alexis enjoys trying out new recipes and finds joy in experimenting in the kitchen.\n",
      "\u001b[32mAlexis gets lost in her thoughts while gardening.\u001b[0m Alexis finds peace and connection with nature while getting lost in her thoughts while gardening.\n",
      "\u001b[32mAlexis decides to call her grandmother for a heartfelt chat.\u001b[0m Alexis feels grateful for the opportunity to connect with her grandmother.\n",
      "\u001b[32mAlexis relaxes in the evening by playing her favorite piano pieces.\u001b[0m Alexis finds comfort and relaxation in playing her favorite piano pieces.\n",
      "****************************************\n",
      "\u001b[34mAfter these observations, Alexis's summary is:\n",
      "Name: Alexis (age: 30)\n",
      "Innate traits: curious, creative writer, world traveler\n",
      "Alexis is a reflective and introspective individual who finds solace in journaling, peace in gardening, and connection with loved ones. She starts her day with yoga to energize herself and ends it by playing her favorite piano pieces for relaxation. Alexis enjoys trying out new recipes and experimenting in the kitchen, and values the moments spent with family and friends, such as heartfelt chats with her grandmother.\u001b[0m\n",
      "****************************************\n"
     ]
    }
   ],
   "source": [
    "# Let's observe how Alexis's day influences her memory and character\n",
    "for i, observation in enumerate(alexis_observations_day):\n",
    "    _, reaction = alexis.generate_reaction(observation)\n",
    "    print(colored(observation, \"green\"), reaction)\n",
    "    if ((i + 1) % len(alexis_observations_day)) == 0:\n",
    "        print(\"*\" * 40)\n",
    "        print(\n",
    "            colored(\n",
    "                f\"After these observations, Alexis's summary is:\\n{alexis.get_summary(force_refresh=True)}\",\n",
    "                \"blue\",\n",
    "            )\n",
    "        )\n",
    "        print(\"*\" * 40)"
   ]
  }
 ],
 "metadata": {
  "kernelspec": {
   "display_name": "genai_env",
   "language": "python",
   "name": "python3"
  },
  "language_info": {
   "codemirror_mode": {
    "name": "ipython",
    "version": 3
   },
   "file_extension": ".py",
   "mimetype": "text/x-python",
   "name": "python",
   "nbconvert_exporter": "python",
   "pygments_lexer": "ipython3",
   "version": "3.11.4"
  }
 },
 "nbformat": 4,
 "nbformat_minor": 2
}
