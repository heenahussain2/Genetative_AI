{
 "cells": [
  {
   "cell_type": "markdown",
   "metadata": {},
   "source": [
    "## Single Step Tool Use\n",
    "- Tool use can be executed in two modes, single step and multi step\n",
    "- In single step tool use an LLM calls one or many tools in parallel. The tools then return the results, which the LLM can use to generate its response.\n",
    "- In this notebook we will go through how to use multiple tools, when not to use tools and how to use tools in a chat setting for maintaining context."
   ]
  },
  {
   "cell_type": "code",
   "execution_count": 2,
   "metadata": {},
   "outputs": [],
   "source": [
    "import os\n",
    "from dotenv import load_dotenv\n",
    "\n",
    "load_dotenv()\n",
    "\n",
    "cohere_api_key = os.getenv('COHERE_API_KEY', '')"
   ]
  },
  {
   "cell_type": "code",
   "execution_count": 3,
   "metadata": {},
   "outputs": [
    {
     "data": {
      "text/html": [
       "<style>.container { width:90% !important; }</style>"
      ],
      "text/plain": [
       "<IPython.core.display.HTML object>"
      ]
     },
     "metadata": {},
     "output_type": "display_data"
    }
   ],
   "source": [
    "# Run this cell if you want to make your display wider\n",
    "from IPython.display import display, HTML\n",
    "display(HTML(\"<style>.container { width:90% !important; }</style>\"))"
   ]
  },
  {
   "cell_type": "code",
   "execution_count": 4,
   "metadata": {},
   "outputs": [
    {
     "name": "stderr",
     "output_type": "stream",
     "text": [
      "c:\\Users\\heena\\Desktop\\Genetative_AI\\genai_env\\Lib\\site-packages\\pydantic\\_internal\\_config.py:341: UserWarning: Valid config keys have changed in V2:\n",
      "* 'allow_population_by_field_name' has been renamed to 'populate_by_name'\n",
      "* 'smart_union' has been removed\n",
      "  warnings.warn(message, UserWarning)\n"
     ]
    }
   ],
   "source": [
    "import json\n",
    "import cohere"
   ]
  },
  {
   "cell_type": "code",
   "execution_count": 5,
   "metadata": {},
   "outputs": [],
   "source": [
    "co = cohere.Client(api_key=cohere_api_key)"
   ]
  },
  {
   "cell_type": "markdown",
   "metadata": {},
   "source": [
    "### Step 1. Create Tools\n",
    "- Here we will create 2 tools, one will be a dummy sales database and the other tool will be a product catalog."
   ]
  },
  {
   "cell_type": "code",
   "execution_count": 6,
   "metadata": {},
   "outputs": [],
   "source": [
    "def daily_sales_report(day: str) -> dict:\n",
    "    \"\"\"\n",
    "    Function to retrieve the sales report for the given day\n",
    "    \"\"\"\n",
    "    # Mock database containing daily sales reports\n",
    "    sales_database = {\n",
    "    '2023-09-28': {'total_sales_amount': 5000,'total_units_sold': 100},\n",
    "    '2023-09-29': {'total_sales_amount': 10000,'total_units_sold': 250},\n",
    "    '2023-09-30': {'total_sales_amount': 8000,'total_units_sold': 200}\n",
    "    }\n",
    "    \n",
    "    report = sales_database.get(day, {})\n",
    "    \n",
    "    if report:\n",
    "        return {\n",
    "            'date': day,\n",
    "            'summary': f\"Total Sales Amount: {report['total_sales_amount']}, Total Units Sold: {report['total_units_sold']}\"\n",
    "        }\n",
    "    else:\n",
    "        return {'date': day, 'summary': 'No sales data available for this day.'}"
   ]
  },
  {
   "cell_type": "code",
   "execution_count": 7,
   "metadata": {},
   "outputs": [],
   "source": [
    "def product_database(category: str) -> dict:\n",
    "    \"\"\"\n",
    "    Function to retrieve products for the given category\n",
    "    \"\"\"\n",
    "    \n",
    "    # Mock product catalog\n",
    "    product_catalog = {\n",
    "        'Electronics': [\n",
    "            {'product_id': 'E1001', 'name': 'Smartphone', 'price': 500, 'stock_level': 20},\n",
    "            {'product_id': 'E1002', 'name': 'Laptop', 'price': 1000, 'stock_level': 15},\n",
    "            {'product_id': 'E1003', 'name': 'Tablet', 'price': 300, 'stock_level': 25},\n",
    "        ],\n",
    "        'Clothing': [\n",
    "            {'product_id': 'C1001', 'name': 'T-Shirt', 'price': 20, 'stock_level': 100},\n",
    "            {'product_id': 'C1002', 'name': 'Jeans', 'price': 50, 'stock_level': 80},\n",
    "            {'product_id': 'C1003', 'name': 'Jacket', 'price': 100, 'stock_level': 40},\n",
    "        ]\n",
    "    }\n",
    "    \n",
    "    products = product_catalog.get(category, [])\n",
    "    return {\n",
    "        'category': category,\n",
    "        'products': products\n",
    "    }"
   ]
  },
  {
   "cell_type": "code",
   "execution_count": 8,
   "metadata": {},
   "outputs": [],
   "source": [
    "functions_map = {\n",
    "    \"daily_sales_report\": daily_sales_report,\n",
    "    \"product_database\": product_database\n",
    "}"
   ]
  },
  {
   "cell_type": "markdown",
   "metadata": {},
   "source": [
    "### Step 2. Define Tool Schema\n",
    "- Define schema for both the tools, to explain the LLMs what the tools do and the parameters they take."
   ]
  },
  {
   "cell_type": "code",
   "execution_count": 9,
   "metadata": {},
   "outputs": [],
   "source": [
    "tools = [\n",
    "    {\n",
    "        \"name\": \"daily_sales_report\",\n",
    "        \"description\": \"Connects to a database to retrieve overall sales volumes and sales information for a given day.\",\n",
    "        \"parameter_definitions\": {\n",
    "            \"day\": {\n",
    "                \"description\": \"Retrieves sales data for this day, formatted as YYYY-MM-DD.\",\n",
    "                \"type\": \"str\",\n",
    "                \"required\": True\n",
    "            }\n",
    "        }\n",
    "    },\n",
    "    {\n",
    "        \"name\": \"product_database\",\n",
    "        \"description\": \"A database that contains information about all the products of this company, including categories, prices, and stock levels.\",\n",
    "        \"parameter_definitions\": {\n",
    "            \"category\": {\n",
    "                \"description\": \"Retrieves product information data for all products in this category.\",\n",
    "                \"type\": \"str\",\n",
    "                \"required\": True\n",
    "            }\n",
    "        }\n",
    "    }\n",
    "]"
   ]
  },
  {
   "cell_type": "markdown",
   "metadata": {},
   "source": [
    "### Step 3 Create Custom Preamble (Optional)"
   ]
  },
  {
   "cell_type": "code",
   "execution_count": 10,
   "metadata": {},
   "outputs": [],
   "source": [
    "preamble = \"\"\"## Task & Context\n",
    "You help people answer their questions and other requests interactively. You will be asked a very wide array of requests on all kinds of topics. You will be equipped with a wide range of search engines or similar tools to help you, which you use to research your answer. You should focus on serving the user's needs as best you can, which will be wide-ranging.\n",
    "\n",
    "## Style Guide\n",
    "Unless the user asks for a different style of answer, you should answer in full sentences, using proper grammar and spelling.\n",
    "\"\"\""
   ]
  },
  {
   "cell_type": "markdown",
   "metadata": {},
   "source": [
    "### Single Step Tool Use\n",
    "- Below is the workflow for single step tool use\n",
    "    1. Get the user message.\n",
    "    2. Call the Chat endpoint for tool call generation.\n",
    "    3. If the response contains at least one tool call, execute the tool call(s) and get the tool results.\n",
    "    4. Generate the final response with citations.\n",
    "\n",
    "- To make this a chat application, we will keep steps 1, 2 and 3 in a loop so we can handle multiple tool calls.\n",
    "- We will also send chat history so we can handle multi-turn chat scenarios."
   ]
  },
  {
   "cell_type": "code",
   "execution_count": 11,
   "metadata": {},
   "outputs": [],
   "source": [
    "model = \"command-r-plus\"\n",
    "\n",
    "def run_assistant(message, chat_history=[]):\n",
    "    # Step 1: Get user message\n",
    "    print(f\"Question:\\n{message}\")\n",
    "    print(\"=\"*50)\n",
    "\n",
    "    # Step 2: Generate tool calls (if any)    \n",
    "    response = co.chat(\n",
    "        message=message,\n",
    "        model=model,\n",
    "        preamble=preamble,\n",
    "        tools=tools,\n",
    "        chat_history=chat_history,\n",
    "        force_single_step=True\n",
    "    )\n",
    "\n",
    "    while response.tool_calls:\n",
    "        tool_calls = response.tool_calls\n",
    "        \n",
    "        if response.text:\n",
    "            print(\"Tool plan:\")\n",
    "            print(response.text,\"\\n\")\n",
    "        print(\"Tool calls:\")\n",
    "        for call in tool_calls:\n",
    "            print(f\"Tool name: {call.name} | Parameters: {call.parameters}\")\n",
    "        print(\"=\"*50)\n",
    "        \n",
    "        # Step 3: Get tool results\n",
    "        tool_results = []\n",
    "        for tc in tool_calls:\n",
    "            tool_call = {\"name\": tc.name, \"parameters\": tc.parameters}\n",
    "            tool_output = functions_map[tc.name](**tc.parameters)\n",
    "            tool_results.append({\"call\": tool_call, \"outputs\": [tool_output]})\n",
    "        \n",
    "        # Step 4: Generate response and citations                \n",
    "        response = co.chat(\n",
    "            message=\"\",\n",
    "            model=model,\n",
    "            preamble=preamble,\n",
    "            tools=tools,\n",
    "            tool_results=tool_results,\n",
    "            chat_history=response.chat_history\n",
    "        )\n",
    "\n",
    "        # Update the chat history\n",
    "        chat_history = response.chat_history\n",
    "        \n",
    "    # Print final response\n",
    "    print(\"Final response:\")\n",
    "    print(response.text)\n",
    "    print(\"=\"*50)\n",
    "    \n",
    "    # Print citations (if any)\n",
    "    if response.citations:\n",
    "        print(\"Citations:\")\n",
    "        for citation in response.citations:\n",
    "            print(citation)\n",
    "        print(\"\\nCited Documents:\")\n",
    "        for document in response.documents:\n",
    "            print(document)\n",
    "        print(\"=\"*50)\n",
    "    \n",
    "    return chat_history"
   ]
  },
  {
   "cell_type": "code",
   "execution_count": 12,
   "metadata": {},
   "outputs": [
    {
     "name": "stdout",
     "output_type": "stream",
     "text": [
      "Question:\n",
      "Can you provide a sales summary for 29th September 2023?\n",
      "==================================================\n",
      "Tool calls:\n",
      "Tool name: daily_sales_report | Parameters: {'day': '2023-09-29'}\n",
      "==================================================\n",
      "Final response:\n",
      "On 29 September 2023, we sold 250 units and made a total of $10,000.\n",
      "==================================================\n",
      "Citations:\n",
      "start=30 end=39 text='250 units' document_ids=['daily_sales_report:0:2:0']\n",
      "start=51 end=67 text='total of $10,000' document_ids=['daily_sales_report:0:2:0']\n",
      "\n",
      "Cited Documents:\n",
      "{'date': '2023-09-29', 'id': 'daily_sales_report:0:2:0', 'summary': 'Total Sales Amount: 10000, Total Units Sold: 250', 'tool_name': 'daily_sales_report'}\n",
      "==================================================\n"
     ]
    }
   ],
   "source": [
    "chat_history = run_assistant(\"Can you provide a sales summary for 29th September 2023?\")"
   ]
  },
  {
   "cell_type": "markdown",
   "metadata": {},
   "source": [
    "### Single-Step, Parallel Tool Use\n",
    "- The model can decide that more than one tool is required to provide a response. \n",
    "- This means calling multiple tools in parallel within the same step. This can either be:\n",
    "    - Calling different tools in parallel.\n",
    "    - Calling the same tool multiple times in parallel.\n",
    "    - or a combination of both."
   ]
  },
  {
   "cell_type": "code",
   "execution_count": 13,
   "metadata": {},
   "outputs": [
    {
     "name": "stdout",
     "output_type": "stream",
     "text": [
      "Question:\n",
      "Can you provide a sales summary for 28th and 29th September 2023 as well as the stock level of the products in the 'Electronics' category?\n",
      "==================================================\n",
      "Tool calls:\n",
      "Tool name: daily_sales_report | Parameters: {'day': '2023-09-28'}\n",
      "Tool name: daily_sales_report | Parameters: {'day': '2023-09-29'}\n",
      "Tool name: product_database | Parameters: {'category': 'Electronics'}\n",
      "==================================================\n",
      "Final response:\n",
      "On 28 September 2023, the total sales amount was 5000, with 100 units sold. The following day, 29 September 2023, the total sales amount was 10000, with 250 units sold. \n",
      "\n",
      "Here is the stock level of the products in the 'Electronics' category:\n",
      "- Smartphone (E1001) - 20\n",
      "- Laptop (E1002) - 15\n",
      "- Tablet (E1003) - 25\n",
      "==================================================\n",
      "Citations:\n",
      "start=3 end=20 text='28 September 2023' document_ids=['daily_sales_report:0:2:0']\n",
      "start=26 end=53 text='total sales amount was 5000' document_ids=['daily_sales_report:0:2:0']\n",
      "start=60 end=74 text='100 units sold' document_ids=['daily_sales_report:0:2:0']\n",
      "start=95 end=112 text='29 September 2023' document_ids=['daily_sales_report:1:2:0']\n",
      "start=118 end=146 text='total sales amount was 10000' document_ids=['daily_sales_report:1:2:0']\n",
      "start=153 end=167 text='250 units sold' document_ids=['daily_sales_report:1:2:0']\n",
      "start=244 end=267 text='Smartphone (E1001) - 20' document_ids=['product_database:2:2:0']\n",
      "start=270 end=289 text='Laptop (E1002) - 15' document_ids=['product_database:2:2:0']\n",
      "start=292 end=311 text='Tablet (E1003) - 25' document_ids=['product_database:2:2:0']\n",
      "\n",
      "Cited Documents:\n",
      "{'date': '2023-09-28', 'id': 'daily_sales_report:0:2:0', 'summary': 'Total Sales Amount: 5000, Total Units Sold: 100', 'tool_name': 'daily_sales_report'}\n",
      "{'date': '2023-09-29', 'id': 'daily_sales_report:1:2:0', 'summary': 'Total Sales Amount: 10000, Total Units Sold: 250', 'tool_name': 'daily_sales_report'}\n",
      "{'category': 'Electronics', 'id': 'product_database:2:2:0', 'products': '[{\"name\":\"Smartphone\",\"price\":500,\"product_id\":\"E1001\",\"stock_level\":20},{\"name\":\"Laptop\",\"price\":1000,\"product_id\":\"E1002\",\"stock_level\":15},{\"name\":\"Tablet\",\"price\":300,\"product_id\":\"E1003\",\"stock_level\":25}]', 'tool_name': 'product_database'}\n",
      "==================================================\n"
     ]
    }
   ],
   "source": [
    "# Here we will ask about sales summary of two different dates and stock level information of a product category\n",
    "chat_history = run_assistant(\"Can you provide a sales summary for 28th and 29th September 2023 as well as the stock level of the products in the 'Electronics' category?\")"
   ]
  },
  {
   "cell_type": "markdown",
   "metadata": {},
   "source": [
    "### Directly Answering\n",
    "- A key attribute of tool use systems is to choose the right tools for a task.\n",
    "- This includes the ability not to use a tool and instead respond to user message directly.\n",
    "- This could happen if the user's question can be answered directly or none of the tools are helpful to answer the question."
   ]
  },
  {
   "cell_type": "code",
   "execution_count": 18,
   "metadata": {},
   "outputs": [
    {
     "name": "stdout",
     "output_type": "stream",
     "text": [
      "Question:\n",
      "Give me 3 concise tips on how to build a good company\n",
      "==================================================\n",
      "Final response:\n",
      "1. Have a clear vision and strategy.\n",
      "2. Hire the right people and treat them well.\n",
      "3. Focus on delivering value to your customers.\n",
      "==================================================\n"
     ]
    }
   ],
   "source": [
    "# 1. The model can directly answer the user's question\n",
    "chat_history = run_assistant(\"Give me 3 concise tips on how to build a good company\")"
   ]
  },
  {
   "cell_type": "code",
   "execution_count": 19,
   "metadata": {},
   "outputs": [
    {
     "name": "stdout",
     "output_type": "stream",
     "text": [
      "Question:\n",
      "How many employees does this company have?\n",
      "==================================================\n",
      "Tool calls:\n",
      "Tool name: product_database | Parameters: {'category': 'employees'}\n",
      "==================================================\n",
      "Final response:\n",
      "I'm sorry, I don't have access to information about the number of employees at this company.\n",
      "==================================================\n"
     ]
    }
   ],
   "source": [
    "# 2. The model does not possess the answer to the question and there are no available tools as well.\n",
    "chat_history = run_assistant(\"How many employees does this company have?\")"
   ]
  }
 ],
 "metadata": {
  "kernelspec": {
   "display_name": "genai_env",
   "language": "python",
   "name": "python3"
  },
  "language_info": {
   "codemirror_mode": {
    "name": "ipython",
    "version": 3
   },
   "file_extension": ".py",
   "mimetype": "text/x-python",
   "name": "python",
   "nbconvert_exporter": "python",
   "pygments_lexer": "ipython3",
   "version": "3.11.4"
  }
 },
 "nbformat": 4,
 "nbformat_minor": 2
}
