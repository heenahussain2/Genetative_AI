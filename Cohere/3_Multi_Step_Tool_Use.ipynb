{
 "cells": [
  {
   "cell_type": "markdown",
   "metadata": {},
   "source": [
    "## Multi Step Tool Use\n",
    "- Multi step tool use happens when more than one tool is required and the output of one tool is needed as the input to another tool.\n",
    "- In other words, tool calling needs to happen in a sequence.\n",
    "- This is useful in scenarios where tasks have to be broken down into a sequence of steps.\n",
    "- https://cohere.com/llmu/multi-step-tool-use-2?ref=cohere-ai.ghost.io"
   ]
  },
  {
   "cell_type": "markdown",
   "metadata": {},
   "source": [
    "### ReAct-Style Prompting\n",
    "- A common approach for multi-step tool use implementation is using the ReAct style of prompting\n",
    "- The ReAct framework is a technique for improving the accuracy and reliability of responses from LLMs.\n",
    "- It combines \"Reasoning\" and \"Acting\", inspired by the natural human ability to learn and make decisions by blending these two elements.\n",
    "- It allows LLMs to create a plan to solve a task and then execute the plan step by step in an iterative process, where it reflects and adjusts its plan after each action it takes.\n",
    "- By integrating both reasoning and acting within LLMs, ReAct guides them to produce verbal reasoning paths and specific actions for a given task.\n",
    "- The framework follows a series of Thought-Action-Observation reasoning sequences.\n",
    "- Given a user input, the LLM first generates a thought, which includes the plan of what it needs to do. Then it generates an action, which is a call to an external tool.\n",
    "- The result of this tool is then passed to its observation step.\n",
    "- It will repeat this sequence until a task has been fulfilled."
   ]
  },
  {
   "cell_type": "markdown",
   "metadata": {},
   "source": [
    "### Multi-Step Tool use Workflow\n",
    "The Multi-Step tool workflow uses a style similar to the ReAct framework. The prompt is comprised of:\n",
    "- The preamble, consisting of the system and custom (if defined) preambles\n",
    "- The list of available tools, taken from the tool schema defined by the developer\n",
    "- The user message\n",
    "- And finally, the instructions to run the ReAct-style workflow."
   ]
  },
  {
   "cell_type": "markdown",
   "metadata": {},
   "source": [
    "#### Planning and Execution\n",
    "- The first instruction to the LLM is to perform a \"planning\" step consisting of an initial high-level plan of how the model will solve the problem, including the tools and steps required.\n",
    "- This is followed by actually carrying out the plan by repeatedly using actions (tool calls), with every step going through an Action-Observation-Reflection sequence."
   ]
  },
  {
   "cell_type": "markdown",
   "metadata": {},
   "source": [
    "#### Self-Correction\n",
    "- So far we have assumed that every tool call will be executed successfully and return some result.\n",
    "- But calling external functions could return errors, such as missing information, unsuccessful attempts and many others.\n",
    "- In this situation, the model will be able to reflect on this returned result and take a different course of action than what was originally planned. For ex: it might rerun the step that returned error rather than moving to the next step."
   ]
  },
  {
   "cell_type": "markdown",
   "metadata": {},
   "source": [
    "### Setting Up the Tools\n"
   ]
  },
  {
   "cell_type": "code",
   "execution_count": 1,
   "metadata": {},
   "outputs": [],
   "source": [
    "import os\n",
    "from dotenv import load_dotenv\n",
    "\n",
    "load_dotenv()\n",
    "\n",
    "cohere_api_key = os.getenv('COHERE_API_KEY', '')"
   ]
  },
  {
   "cell_type": "code",
   "execution_count": 2,
   "metadata": {},
   "outputs": [
    {
     "data": {
      "text/html": [
       "<style>.container { width:90% !important; }</style>"
      ],
      "text/plain": [
       "<IPython.core.display.HTML object>"
      ]
     },
     "metadata": {},
     "output_type": "display_data"
    }
   ],
   "source": [
    "# Run this cell if you want to make your display wider\n",
    "from IPython.display import display, HTML\n",
    "display(HTML(\"<style>.container { width:90% !important; }</style>\"))"
   ]
  },
  {
   "cell_type": "code",
   "execution_count": 3,
   "metadata": {},
   "outputs": [
    {
     "name": "stderr",
     "output_type": "stream",
     "text": [
      "c:\\Users\\heena\\Desktop\\Genetative_AI\\genai_env\\Lib\\site-packages\\pydantic\\_internal\\_config.py:341: UserWarning: Valid config keys have changed in V2:\n",
      "* 'allow_population_by_field_name' has been renamed to 'populate_by_name'\n",
      "* 'smart_union' has been removed\n",
      "  warnings.warn(message, UserWarning)\n"
     ]
    }
   ],
   "source": [
    "import json\n",
    "import cohere"
   ]
  },
  {
   "cell_type": "code",
   "execution_count": 4,
   "metadata": {},
   "outputs": [],
   "source": [
    "co = cohere.Client(api_key=cohere_api_key)"
   ]
  },
  {
   "cell_type": "markdown",
   "metadata": {},
   "source": [
    "### Step 1. Create Tools\n",
    "Let’s now create two tools:\n",
    "\n",
    "- A function called `list_calendar_events` to list the existing calendar events based on a given date. \n",
    "    - For simplicity, we’ll include a mock events record, which is a simple list of events in a day.\n",
    "- A function called `create_calendar_event` to create a new calendar event based on the provided date, time, and duration. \n",
    "    - To keep things simple, we will not make actual changes to a database but instead will just return a simple success message for illustration purposes."
   ]
  },
  {
   "cell_type": "code",
   "execution_count": 5,
   "metadata": {},
   "outputs": [],
   "source": [
    "def list_calendar_events(date: str):\n",
    "  events = [{\"start\": \"8:00\", \"end\": \"8:59\"}, {\"start\": \"9:00\", \"end\": \"9:59\"},\n",
    "            {\"start\": \"11:00\", \"end\": \"11:59\"},{\"start\": \"12:00\", \"end\": \"12:59\"}]\n",
    "\n",
    "  return {\n",
    "        \"existing_events\": events\n",
    "    }\n",
    "\n",
    "def create_calendar_event(date: str, time: str, duration: int):\n",
    "  \n",
    "  return {\n",
    "        \"is_success\": True,\n",
    "        \"message\": f\"Created a {duration} hour long event at {time} on {date}\"\n",
    "    }\n",
    "\n",
    "functions_map = {\n",
    "    \"list_calendar_events\": list_calendar_events,\n",
    "    \"create_calendar_event\": create_calendar_event\n",
    "}"
   ]
  },
  {
   "cell_type": "markdown",
   "metadata": {},
   "source": [
    "### Step 2: Define Tool Schema"
   ]
  },
  {
   "cell_type": "code",
   "execution_count": 6,
   "metadata": {},
   "outputs": [],
   "source": [
    "tools = [\n",
    "    {\n",
    "      \"name\": \"list_calendar_events\",\n",
    "      \"description\": \"Returns a list of existing events for the specified date, including the start time and end time for each event.\",\n",
    "      \"parameter_definitions\": {\n",
    "        \"date\": {\n",
    "          \"description\": \"the date to list events for, formatted as mm/dd/yy\",\n",
    "          \"type\": \"str\",\n",
    "          \"required\": True\n",
    "        }\n",
    "      }\n",
    "    }, \n",
    "    {\n",
    "      \"name\": \"create_calendar_event\",\n",
    "      \"description\": \"Creates a new calendar event of the specified duration at the specified time and date. A new event cannot be created on the same time as an existing event.\",\n",
    "      \"parameter_definitions\": {\n",
    "        \"date\": {\n",
    "          \"description\": \"the date on which the event starts, formatted as mm/dd/yy\",\n",
    "          \"type\": \"str\",\n",
    "          \"required\": True\n",
    "        },\n",
    "        \"time\": {\n",
    "          \"description\": \"the time of the event, formatted using 24h military time formatting\",\n",
    "          \"type\": \"str\",\n",
    "          \"required\": True\n",
    "        },\n",
    "        \"duration\": {\n",
    "          \"description\": \"the number of hours the event lasts for\",\n",
    "          \"type\": \"float\",\n",
    "          \"required\": True\n",
    "        }\n",
    "      }\n",
    "    }\n",
    "]"
   ]
  },
  {
   "cell_type": "markdown",
   "metadata": {},
   "source": [
    "### Step 3: Create Custom Preamble (Optional)"
   ]
  },
  {
   "cell_type": "code",
   "execution_count": 7,
   "metadata": {},
   "outputs": [],
   "source": [
    "preamble=\"\"\"## Task & Context\n",
    "You are a calendar assistant who helps people schedule events on their calendar. You must make sure that a new event does not overlap with any existing event.\n",
    "Today is Thursday, May 23, 2024\n",
    "\"\"\""
   ]
  },
  {
   "cell_type": "markdown",
   "metadata": {},
   "source": [
    "### Step 4: Run the Assistant\n",
    "- The `run_assistant` function will be the same as in the Single step parallel tool use, where we will loop over multiple tool calls.\n",
    "- The only difference is that we will remove the `force_single_step` argument as it is `False` by default.\n",
    "- This tells the API to enable a multi-step workflow and use the right prompt template to run the workflow."
   ]
  },
  {
   "cell_type": "code",
   "execution_count": 8,
   "metadata": {},
   "outputs": [],
   "source": [
    "model = \"command-r-plus\"\n",
    "\n",
    "def run_assistant(message, chat_history=[]):\n",
    "    # Step 1: Get user message\n",
    "    print(f\"Question:\\n{message}\")\n",
    "    print(\"=\"*50)\n",
    "\n",
    "    # Step 2: Generate tool calls (if any)    \n",
    "    response = co.chat(\n",
    "        message=message,\n",
    "        model=model,\n",
    "        preamble=preamble,\n",
    "        tools=tools,\n",
    "        chat_history=chat_history\n",
    "    )\n",
    "\n",
    "    while response.tool_calls:\n",
    "        tool_calls = response.tool_calls\n",
    "        \n",
    "        if response.text:\n",
    "            print(\"Tool plan:\")\n",
    "            print(response.text,\"\\n\")\n",
    "        print(\"Tool calls:\")\n",
    "        for call in tool_calls:\n",
    "            print(f\"Tool name: {call.name} | Parameters: {call.parameters}\")\n",
    "        print(\"=\"*50)\n",
    "        \n",
    "        # Step 3: Get tool results\n",
    "        tool_results = []\n",
    "        for tc in tool_calls:\n",
    "            tool_call = {\"name\": tc.name, \"parameters\": tc.parameters}\n",
    "            tool_output = functions_map[tc.name](**tc.parameters)\n",
    "            tool_results.append({\"call\": tool_call, \"outputs\": [tool_output]})\n",
    "        \n",
    "        # Step 4: Generate response and citations                \n",
    "        response = co.chat(\n",
    "            message=\"\",\n",
    "            model=model,\n",
    "            preamble=preamble,\n",
    "            tools=tools,\n",
    "            tool_results=tool_results,\n",
    "            chat_history=response.chat_history\n",
    "        )\n",
    "\n",
    "        # Update the chat history\n",
    "        chat_history = response.chat_history\n",
    "        \n",
    "    # Print final response\n",
    "    print(\"Final response:\")\n",
    "    print(response.text)\n",
    "    print(\"=\"*50)\n",
    "    \n",
    "    # Print citations (if any)\n",
    "    if response.citations:\n",
    "        print(\"Citations:\")\n",
    "        for citation in response.citations:\n",
    "            print(citation)\n",
    "        print(\"\\nCited Documents:\")\n",
    "        for document in response.documents:\n",
    "            print(document)\n",
    "        print(\"=\"*50)\n",
    "    \n",
    "    return chat_history"
   ]
  },
  {
   "cell_type": "code",
   "execution_count": 9,
   "metadata": {},
   "outputs": [
    {
     "name": "stdout",
     "output_type": "stream",
     "text": [
      "Question:\n",
      "How many meetings do I have today\n",
      "==================================================\n",
      "Tool plan:\n",
      "I will list the events for today and count how many there are. \n",
      "\n",
      "Tool calls:\n",
      "Tool name: list_calendar_events | Parameters: {'date': '05/23/24'}\n",
      "==================================================\n",
      "Final response:\n",
      "You have four meetings today.\n",
      "==================================================\n",
      "Citations:\n",
      "start=9 end=28 text='four meetings today' document_ids=['list_calendar_events:0:2:0']\n",
      "\n",
      "Cited Documents:\n",
      "{'existing_events': '[{\"end\":\"8:59\",\"start\":\"8:00\"},{\"end\":\"9:59\",\"start\":\"9:00\"},{\"end\":\"11:59\",\"start\":\"11:00\"},{\"end\":\"12:59\",\"start\":\"12:00\"}]', 'id': 'list_calendar_events:0:2:0', 'tool_name': 'list_calendar_events'}\n",
      "==================================================\n"
     ]
    }
   ],
   "source": [
    "# Ask the assistant a question\n",
    "chat_history = run_assistant(\"How many meetings do I have today\")"
   ]
  },
  {
   "cell_type": "code",
   "execution_count": 10,
   "metadata": {},
   "outputs": [
    {
     "name": "stdout",
     "output_type": "stream",
     "text": [
      "Question:\n",
      "Create an hour-long appointment for the first available free slot after 9am\n",
      "==================================================\n",
      "Tool plan:\n",
      "I will check the user's calendar for 23/05/2024 to find the first available free slot after 9am, then create an hour-long appointment in that slot. \n",
      "\n",
      "Tool calls:\n",
      "Tool name: list_calendar_events | Parameters: {'date': '05/23/2024'}\n",
      "==================================================\n",
      "Tool plan:\n",
      "The user's calendar shows that they have a free slot after 9am from 10:00 to 11:00. I will now create an hour-long appointment in that slot. \n",
      "\n",
      "Tool calls:\n",
      "Tool name: create_calendar_event | Parameters: {'date': '05/23/2024', 'duration': 1, 'time': '10:00'}\n",
      "==================================================\n",
      "Final response:\n",
      "I've created an hour-long appointment for you at 10:00.\n",
      "==================================================\n",
      "Citations:\n",
      "start=16 end=37 text='hour-long appointment' document_ids=['create_calendar_event:0:4:0']\n",
      "start=49 end=54 text='10:00' document_ids=['create_calendar_event:0:4:0']\n",
      "\n",
      "Cited Documents:\n",
      "{'id': 'create_calendar_event:0:4:0', 'is_success': 'true', 'message': 'Created a 1 hour long event at 10:00 on 05/23/2024', 'tool_name': 'create_calendar_event'}\n",
      "==================================================\n"
     ]
    }
   ],
   "source": [
    "# Let’s now try to ask a question that requires multi-step tool calling — \n",
    "# this one asking the assistant to book an appointment. To complete this task,\n",
    "# the assistant will have to first query the existing events and then use the \n",
    "# information to create a new event that wouldn’t cause a conflict.\n",
    "chat_history = run_assistant(\"Create an hour-long appointment for the first available free slot after 9am\")"
   ]
  },
  {
   "cell_type": "code",
   "execution_count": 11,
   "metadata": {},
   "outputs": [
    {
     "data": {
      "text/plain": [
       "[Message_User(message='Create an hour-long appointment for the first available free slot after 9am', tool_calls=None, role='USER'),\n",
       " Message_Chatbot(message=\"I will check the user's calendar for 23/05/2024 to find the first available free slot after 9am, then create an hour-long appointment in that slot.\", tool_calls=[ToolCall(name='list_calendar_events', parameters={'date': '05/23/2024'})], role='CHATBOT'),\n",
       " Message_Tool(tool_results=[ToolResult(call=ToolCall(name='list_calendar_events', parameters={'date': '05/23/2024'}), outputs=[{'existing_events': [{'end': '8:59', 'start': '8:00'}, {'end': '9:59', 'start': '9:00'}, {'end': '11:59', 'start': '11:00'}, {'end': '12:59', 'start': '12:00'}]}])], role='TOOL'),\n",
       " Message_Chatbot(message=\"The user's calendar shows that they have a free slot after 9am from 10:00 to 11:00. I will now create an hour-long appointment in that slot.\", tool_calls=[ToolCall(name='create_calendar_event', parameters={'date': '05/23/2024', 'duration': 1, 'time': '10:00'})], role='CHATBOT'),\n",
       " Message_Tool(tool_results=[ToolResult(call=ToolCall(name='create_calendar_event', parameters={'date': '05/23/2024', 'duration': 1, 'time': '10:00'}), outputs=[{'is_success': True, 'message': 'Created a 1 hour long event at 10:00 on 05/23/2024'}])], role='TOOL'),\n",
       " Message_Chatbot(message=\"I've created an hour-long appointment for you at 10:00.\", tool_calls=None, role='CHATBOT')]"
      ]
     },
     "execution_count": 11,
     "metadata": {},
     "output_type": "execute_result"
    }
   ],
   "source": [
    "chat_history"
   ]
  },
  {
   "cell_type": "markdown",
   "metadata": {},
   "source": [
    "### Multi-Step, Parallel Tool Use"
   ]
  },
  {
   "cell_type": "code",
   "execution_count": 12,
   "metadata": {},
   "outputs": [
    {
     "name": "stdout",
     "output_type": "stream",
     "text": [
      "Question:\n",
      "Book two hour-long appointments for any available time between 8am to 6pm\n",
      "==================================================\n",
      "Tool plan:\n",
      "I will list the user's calendar events for today, then create two one-hour events at available times. \n",
      "\n",
      "Tool calls:\n",
      "Tool name: list_calendar_events | Parameters: {'date': '05/23/2024'}\n",
      "==================================================\n",
      "Tool plan:\n",
      "The user's calendar is free from 13:00 to 18:00 today. I will create two one-hour events at available times during this period. \n",
      "\n",
      "Tool calls:\n",
      "Tool name: create_calendar_event | Parameters: {'date': '05/23/2024', 'duration': 1, 'time': '13:00'}\n",
      "Tool name: create_calendar_event | Parameters: {'date': '05/23/2024', 'duration': 1, 'time': '14:00'}\n",
      "==================================================\n",
      "Final response:\n",
      "I've booked two one-hour appointments for you today, at 13:00 and 14:00.\n",
      "==================================================\n",
      "Citations:\n",
      "start=56 end=61 text='13:00' document_ids=['create_calendar_event:0:4:0']\n",
      "start=66 end=71 text='14:00' document_ids=['create_calendar_event:1:4:0']\n",
      "\n",
      "Cited Documents:\n",
      "{'id': 'create_calendar_event:0:4:0', 'is_success': 'true', 'message': 'Created a 1 hour long event at 13:00 on 05/23/2024', 'tool_name': 'create_calendar_event'}\n",
      "{'id': 'create_calendar_event:1:4:0', 'is_success': 'true', 'message': 'Created a 1 hour long event at 14:00 on 05/23/2024', 'tool_name': 'create_calendar_event'}\n",
      "==================================================\n"
     ]
    }
   ],
   "source": [
    "# We will ask the assistant to create two separate events on the same day.\n",
    "chat_history = run_assistant(\"Book two hour-long appointments for any available time between 8am to 6pm\")"
   ]
  }
 ],
 "metadata": {
  "kernelspec": {
   "display_name": "genai_env",
   "language": "python",
   "name": "python3"
  },
  "language_info": {
   "codemirror_mode": {
    "name": "ipython",
    "version": 3
   },
   "file_extension": ".py",
   "mimetype": "text/x-python",
   "name": "python",
   "nbconvert_exporter": "python",
   "pygments_lexer": "ipython3",
   "version": "3.11.4"
  }
 },
 "nbformat": 4,
 "nbformat_minor": 2
}
