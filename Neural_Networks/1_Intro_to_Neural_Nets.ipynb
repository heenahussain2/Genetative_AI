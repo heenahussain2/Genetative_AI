{
 "cells": [
  {
   "cell_type": "markdown",
   "metadata": {},
   "source": [
    "## Neural Network from scratch"
   ]
  },
  {
   "cell_type": "code",
   "execution_count": 174,
   "metadata": {},
   "outputs": [],
   "source": [
    "import math\n",
    "import numpy as np\n",
    "import matplotlib.pyplot as plt\n",
    "from graphviz import Digraph\n",
    "import random\n",
    "%matplotlib inline"
   ]
  },
  {
   "cell_type": "code",
   "execution_count": 19,
   "metadata": {},
   "outputs": [],
   "source": [
    "def f(x):\n",
    "    return 3*x**2 - 4*x + 5 # Equation for a parabola"
   ]
  },
  {
   "cell_type": "code",
   "execution_count": 20,
   "metadata": {},
   "outputs": [
    {
     "data": {
      "text/plain": [
       "20.0"
      ]
     },
     "execution_count": 20,
     "metadata": {},
     "output_type": "execute_result"
    }
   ],
   "source": [
    "f(3.0)"
   ]
  },
  {
   "cell_type": "code",
   "execution_count": 21,
   "metadata": {},
   "outputs": [
    {
     "data": {
      "text/plain": [
       "[<matplotlib.lines.Line2D at 0x2e80e7e6f90>]"
      ]
     },
     "execution_count": 21,
     "metadata": {},
     "output_type": "execute_result"
    },
    {
     "data": {
      "image/png": "[encoded data removed]",
      "text/plain": [
       "<Figure size 640x480 with 1 Axes>"
      ]
     },
     "metadata": {},
     "output_type": "display_data"
    }
   ],
   "source": [
    "# Feed a range of numbers to plot the function\n",
    "xs = np.arange(-5, 5, 0.25)\n",
    "ys = f(xs)\n",
    "\n",
    "# Now plot the result\n",
    "plt.plot(xs, ys)"
   ]
  },
  {
   "cell_type": "code",
   "execution_count": 22,
   "metadata": {},
   "outputs": [
    {
     "data": {
      "text/plain": [
       "2.999378523327323e-06"
      ]
     },
     "execution_count": 22,
     "metadata": {},
     "output_type": "execute_result"
    }
   ],
   "source": [
    "# Now we will find the derivative of the function to see how the values change if we slightly increase the value of x\n",
    "h = 0.000001\n",
    "x = 2/3 # At this value the slope will become 0\n",
    "(f(x+h) - f(x))/h"
   ]
  },
  {
   "cell_type": "code",
   "execution_count": 23,
   "metadata": {},
   "outputs": [],
   "source": [
    "# Lets get more complex\n",
    "# We will use 3 scalars a,b and c and their output will be d\n",
    "a = 2.0\n",
    "b = -3.0\n",
    "c = 10.0\n",
    "d = a*b+c"
   ]
  },
  {
   "cell_type": "code",
   "execution_count": 24,
   "metadata": {},
   "outputs": [
    {
     "name": "stdout",
     "output_type": "stream",
     "text": [
      "d1 4.0\n",
      "d2 3.997\n",
      "slope -3.0000000000001137\n"
     ]
    }
   ],
   "source": [
    "# Now we will look through derivatives of d wrt a,b and c\n",
    "# To evaluate this derivative we will again take a small value of h\n",
    "h = 0.001\n",
    "# Then fix the inputs at some values\n",
    "a = 2.0\n",
    "b = -3.0\n",
    "c = 10.0\n",
    "\n",
    "d1 = a*b + c\n",
    "# If we look at the derivative of d wrt a\n",
    "a += h\n",
    "d2 = a*b + c\n",
    "\n",
    "print(\"d1\", d1)\n",
    "print(\"d2\", d2)\n",
    "print(\"slope\", (d2-d1)/h)"
   ]
  },
  {
   "cell_type": "code",
   "execution_count": 239,
   "metadata": {},
   "outputs": [],
   "source": [
    "# Since the derivative expressions for a Neural Network are complex, we will use a class to represent it.\n",
    "class Value:\n",
    "    def __init__(self, data, _children=(), _op=\"\", label=\"\"):\n",
    "        self.data = data\n",
    "        self._prev = set(_children)\n",
    "        self._op = _op\n",
    "        self.label = label\n",
    "        self.grad = 0.0  # This variable maintains the derivative of output(L) wrt. data (this value)\n",
    "        # This value is initially 0, which means there is no effect. At initialization we are assuming that this value\n",
    "        # does not affect the output. Changing this variable is not changing the output.\n",
    "        self._backward = lambda: None # create an empty function that can store the backward propagation function for an operation\n",
    "    \n",
    "    def __repr__(self) -> str:\n",
    "        # Use this function to display the object as you like\n",
    "        return f\"Value(data={self.data})\"\n",
    "    \n",
    "    def __add__(self, other):\n",
    "        other = other if isinstance(other, Value) else Value(other)\n",
    "        out = Value(self.data + other.data, (self, other), \"+\")\n",
    "        def _backward():\n",
    "            # since it is addition we propagate the gradient as is to both the nodes\n",
    "            self.grad += 1.0 * out.grad\n",
    "            other.grad += 1.0 * out.grad\n",
    "        out._backward = _backward\n",
    "\n",
    "        return out\n",
    "    \n",
    "    def __radd__(self, other): # other + self\n",
    "        return self + other\n",
    "    \n",
    "    def __sub__(self, other): # self - other\n",
    "        return self + (-other)\n",
    "\n",
    "    def __rsub__(self, other): # other - self\n",
    "        return other + (-self)\n",
    "    \n",
    "    def __mul__(self, other):\n",
    "        other = other if isinstance(other, Value) else Value(other)\n",
    "        out = Value(self.data * other.data, (self, other), \"*\")\n",
    "        def _backward():\n",
    "            # In multiplication we use chain rule to multiply the \n",
    "            # gradient of 'out' with the value of the opposite node\n",
    "            self.grad += other.data * out.grad # += is for multivariable gradient, so one doesn't overwrite the other\n",
    "            other.grad += self.data * out.grad\n",
    "        out._backward = _backward \n",
    "        return out\n",
    "    \n",
    "    def __pow__(self, other):\n",
    "        assert isinstance(other, (int, float)), \"only supporting int/float powers for now\"\n",
    "        out = Value(self.data**other, (self, ), f\"**{other}\")\n",
    "        def _backward():\n",
    "            # The gradient for x**n is n*x**n-1\n",
    "            # using it with chain rule\n",
    "            self.grad += (other * self.data**(other - 1)) * out.grad\n",
    "        out._backward = _backward\n",
    "        return out\n",
    "\n",
    "    def __rmul__(self, other): # other * self\n",
    "        return self * other\n",
    "    \n",
    "    def __truediv__(self, other): # self / other\n",
    "        # a / b = a * (1/b) = a * (b**-1 )\n",
    "        return self * other**-1\n",
    "    \n",
    "    def tanh(self):\n",
    "        # To calculate tanh of a node\n",
    "        x = self.data\n",
    "        t = (math.exp(2*x) - 1)/(math.exp(2*x)+1)\n",
    "        out = Value(t, (self, ), \"tanh\")\n",
    "        def _backward():\n",
    "            # for tanh the backward prop will be do/dn = 1 - tanh(n)**2\n",
    "            self.grad += (1 - t**2) * out.grad\n",
    "        out._backward = _backward\n",
    "        return out\n",
    "    \n",
    "    def exp(self):\n",
    "        x = self.data\n",
    "        out = Value(math.exp(x), (self, ), \"exp\")\n",
    "        def _backward():\n",
    "            self.grad += out.data * out.grad # The gradient of y = e^x is y and out.grad is chain rule\n",
    "        out._backward = _backward\n",
    "        return out\n",
    "    \n",
    "    def backward(self):\n",
    "        \"\"\"\n",
    "        This function implements topological sort which \n",
    "        sorts the nodes of a graph from left to right.\n",
    "        Then it iterates through the sorted nodes and calls _backward function on each node\n",
    "        \"\"\"\n",
    "        # Topological sort\n",
    "        topo = []\n",
    "        visited = set()\n",
    "        def build_topo(v):\n",
    "            if v not in visited:\n",
    "                visited.add(v)\n",
    "                for child in v._prev:\n",
    "                    build_topo(child)\n",
    "                topo.append(v)\n",
    "        build_topo(self)\n",
    "\n",
    "        self.grad = 1.0 # gradient of the output node\n",
    "        for node in reversed(topo):\n",
    "            node._backward()\n"
   ]
  },
  {
   "cell_type": "code",
   "execution_count": 170,
   "metadata": {},
   "outputs": [],
   "source": [
    "def trace(root):\n",
    "    # builds the set of all nodes and edges in a graph\n",
    "    nodes, edges = set(), set()\n",
    "    def build(v):\n",
    "        if v not in nodes:\n",
    "            nodes.add(v)\n",
    "            for child in v._prev:\n",
    "                edges.add((child, v))\n",
    "                build(child)\n",
    "    build(root)\n",
    "    return nodes, edges\n",
    "\n",
    "def draw_dot(root):\n",
    "    dot = Digraph(format=\"svg\", graph_attr={'rankdir': 'LR'}) # LR = Left to Right\n",
    "\n",
    "    nodes, edges = trace(root)\n",
    "    for n in nodes:\n",
    "        uid = str(id(n))\n",
    "        # for any value in the graph, create a rectangular ('record') node for it\n",
    "        dot.node(name=uid, label=\"{ %s | data %.4f | grad %.4f } \" % (n.label, n.data, n.grad), shape='record')\n",
    "        if n._op:\n",
    "            # if this value is the result of some operation, create an op node for it\n",
    "            dot.node(name=uid + n._op, label=n._op)\n",
    "            # and connect this node to it\n",
    "            dot.edge(uid + n._op, uid)\n",
    "    for n1, n2 in edges:\n",
    "        # connect n1 to the op node of n2\n",
    "        dot.edge(str(id(n1)), str(id(n2)) + n2._op)\n",
    "    \n",
    "    return dot"
   ]
  },
  {
   "cell_type": "code",
   "execution_count": 134,
   "metadata": {},
   "outputs": [
    {
     "data": {
      "text/plain": [
       "Value(data=-8.0)"
      ]
     },
     "execution_count": 134,
     "metadata": {},
     "output_type": "execute_result"
    }
   ],
   "source": [
    "# Example of Value object\n",
    "a = Value(2.0, label=\"a\")\n",
    "b = Value(-3.0, label=\"b\")\n",
    "c = Value(10.0, label=\"c\")\n",
    "e = a * b; e.label=\"e\"\n",
    "d = e + c ; d.label=\"d\" # (a.__mul__(b)).__add__(c)\n",
    "f = Value(-2.0, label=\"f\")\n",
    "L = d * f; L.label=\"L\"\n",
    "L"
   ]
  },
  {
   "cell_type": "code",
   "execution_count": 152,
   "metadata": {},
   "outputs": [
    {
     "name": "stdout",
     "output_type": "stream",
     "text": [
      "Value(data=4.0)\n"
     ]
    }
   ],
   "source": [
    "# Doing operations with numbers and Value objects\n",
    "a = Value(2.0)\n",
    "# a * 2 # Now we need to convert to into a value object for this operation\n",
    "\n",
    "# Now if you try to do 2 * a or 2 + a you will get an error - for this we implement __rmul__ and __radd__ .\n",
    "# In this python checks if another way around is possible and does that.\n",
    "print(2 * a)\n"
   ]
  },
  {
   "cell_type": "code",
   "execution_count": 136,
   "metadata": {},
   "outputs": [],
   "source": [
    "# draw_dot(L)"
   ]
  },
  {
   "cell_type": "code",
   "execution_count": 54,
   "metadata": {},
   "outputs": [],
   "source": [
    "L.grad = 1.0"
   ]
  },
  {
   "cell_type": "markdown",
   "metadata": {},
   "source": [
    "Now we calculate the derivatives of d and f wrt L (output) - find the proof later  \n",
    "L = d * f   \n",
    "dL/dd = f  \n",
    "dL/df =d"
   ]
  },
  {
   "cell_type": "code",
   "execution_count": 56,
   "metadata": {},
   "outputs": [],
   "source": [
    "# using the above we have the gradients for d and f \n",
    "f.grad = 4.0\n",
    "d.grad = -2.0"
   ]
  },
  {
   "cell_type": "markdown",
   "metadata": {},
   "source": [
    "Now we will derive dL/dc - derivative of L wrt the node c  \n",
    "dL/dc = ?  \n",
    "\n",
    "- First we calculate the local derivatives - dd/dc and dd/de\n",
    "dd/dc = 1.0  \n",
    "d = c + e  \n",
    "(f(x + h) - f(x)) / h  \n",
    "(f(d + h) - f(d)) / h  \n",
    "((c + e + h) - (c+ e)) / h  \n",
    "(c + e + h - c - e) / h  \n",
    "h / h = 1.0  \n",
    "\n",
    "- Similarly dd/de = 1.0 as well\n",
    "- Since now we have the intermediate derivatives we can calculate the derivative of L wrt c - dL/dc using chain rule in calculus.\n",
    "- According to the chain rule dz/dx = dz/dy * dy/dx - by using an intermediate value y we can calculate dz/dx.\n",
    "- Similarly dL/dc = dL/dd * dd/dc\n",
    "- dL/dc = -2.0 * 1.0 = -2.0\n",
    "- dL/de = -2.0 * 1.0 = -2.0 "
   ]
  },
  {
   "cell_type": "code",
   "execution_count": 58,
   "metadata": {},
   "outputs": [],
   "source": [
    "c.grad = -2.0\n",
    "e.grad = -2.0"
   ]
  },
  {
   "cell_type": "markdown",
   "metadata": {},
   "source": [
    "Finally we come to the last node dL/da and dL/db  \n",
    "- To get this we will again apply the chain rule.\n",
    "- We know from previous derivatives that dL/de = -2.0\n",
    "- de/da = b = -3.0\n",
    "- The chain rule will be dL/da = dL/de * de/da = -2.0 * -3.0 = 6.0\n",
    "- dL/db = dL/de * de/db = -2.0 * 2.0 = -4.0"
   ]
  },
  {
   "cell_type": "code",
   "execution_count": 60,
   "metadata": {},
   "outputs": [],
   "source": [
    "a.grad = -2.0 * -3.0\n",
    "b.grad = -2.0 * 2.0"
   ]
  },
  {
   "cell_type": "markdown",
   "metadata": {},
   "source": [
    "### Building a Neuron"
   ]
  },
  {
   "cell_type": "code",
   "execution_count": 160,
   "metadata": {},
   "outputs": [],
   "source": [
    "# inputs x1, x2\n",
    "x1 = Value(2.0, label=\"x1\")\n",
    "x2 = Value(0.0, label=\"x2\")\n",
    "# weights w1, w2 (like strength of synaptic connections in brain)\n",
    "w1 = Value(-3.0, label=\"w1\")\n",
    "w2 = Value(1.0, label=\"w2\")\n",
    "# bias of the neural network\n",
    "b = Value(6.8813735870195432, label=\"b\")\n",
    "\n",
    "# x1*w1 + x2*w2 + b\n",
    "x1w1 = x1 * w1; x1w1.label = \"x1*w1\"\n",
    "x2w2 = x2 * w2; x2w2.label = \"x2*w2\"\n",
    "x1w1x2w2 = x1w1 + x2w2; x1w1x2w2.label = \"x1*w1 + x2*w2\"\n",
    "n = x1w1x2w2 + b; n.label = \"n\"\n",
    "# -- Break tanh into its component operations - tanh = e^2x -1 / e^2x + 1\n",
    "o = n.tanh(); o.label = \"o\""
   ]
  },
  {
   "cell_type": "code",
   "execution_count": 163,
   "metadata": {},
   "outputs": [
    {
     "data": {
      "image/svg+xml": [
       "<?xml version=\"1.0\" encoding=\"UTF-8\" standalone=\"no\"?>\n",
       "<!DOCTYPE svg PUBLIC \"-//W3C//DTD SVG 1.1//EN\"\n",
       " \"http://www.w3.org/Graphics/SVG/1.1/DTD/svg11.dtd\">\n",
       "<!-- Generated by graphviz version 10.0.1 (20240210.2158)\n",
       " -->\n",
       "<!-- Pages: 1 -->\n",
       "<svg width=\"1575pt\" height=\"210pt\"\n",
       " viewBox=\"0.00 0.00 1574.75 210.00\" xmlns=\"http://www.w3.org/2000/svg\" xmlns:xlink=\"http://www.w3.org/1999/xlink\">\n",
       "<g id=\"graph0\" class=\"graph\" transform=\"scale(1 1) rotate(0) translate(4 206)\">\n",
       "<polygon fill=\"white\" stroke=\"none\" points=\"-4,4 -4,-206 1570.75,-206 1570.75,4 -4,4\"/>\n",
       "<!-- 3195758940176 -->\n",
       "<g id=\"node1\" class=\"node\">\n",
       "<title>3195758940176</title>\n",
       "<polygon fill=\"none\" stroke=\"black\" points=\"3.75,-165.5 3.75,-201.5 195.75,-201.5 195.75,-165.5 3.75,-165.5\"/>\n",
       "<text text-anchor=\"middle\" x=\"18.5\" y=\"-178.2\" font-family=\"Times New Roman,serif\" font-size=\"14.00\">x2</text>\n",
       "<polyline fill=\"none\" stroke=\"black\" points=\"33.25,-165.75 33.25,-201.5\"/>\n",
       "<text text-anchor=\"middle\" x=\"73.5\" y=\"-178.2\" font-family=\"Times New Roman,serif\" font-size=\"14.00\">data 0.0000</text>\n",
       "<polyline fill=\"none\" stroke=\"black\" points=\"113.75,-165.75 113.75,-201.5\"/>\n",
       "<text text-anchor=\"middle\" x=\"154.75\" y=\"-178.2\" font-family=\"Times New Roman,serif\" font-size=\"14.00\">grad 0.5000</text>\n",
       "</g>\n",
       "<!-- 3195758696208* -->\n",
       "<g id=\"node12\" class=\"node\">\n",
       "<title>3195758696208*</title>\n",
       "<ellipse fill=\"none\" stroke=\"black\" cx=\"262.5\" cy=\"-128.5\" rx=\"27\" ry=\"18\"/>\n",
       "<text text-anchor=\"middle\" x=\"262.5\" y=\"-123.08\" font-family=\"Times New Roman,serif\" font-size=\"14.00\">*</text>\n",
       "</g>\n",
       "<!-- 3195758940176&#45;&gt;3195758696208* -->\n",
       "<g id=\"edge7\" class=\"edge\">\n",
       "<title>3195758940176&#45;&gt;3195758696208*</title>\n",
       "<path fill=\"none\" stroke=\"black\" d=\"M173.43,-165.03C182.28,-162.37 191.14,-159.51 199.5,-156.5 209.59,-152.87 220.33,-148.29 229.98,-143.89\"/>\n",
       "<polygon fill=\"black\" stroke=\"black\" points=\"231.37,-147.1 238.95,-139.7 228.41,-140.76 231.37,-147.1\"/>\n",
       "</g>\n",
       "<!-- 3195758941072 -->\n",
       "<g id=\"node2\" class=\"node\">\n",
       "<title>3195758941072</title>\n",
       "<polygon fill=\"none\" stroke=\"black\" points=\"2.25,-110.5 2.25,-146.5 197.25,-146.5 197.25,-110.5 2.25,-110.5\"/>\n",
       "<text text-anchor=\"middle\" x=\"18.5\" y=\"-123.2\" font-family=\"Times New Roman,serif\" font-size=\"14.00\">w2</text>\n",
       "<polyline fill=\"none\" stroke=\"black\" points=\"34.75,-110.75 34.75,-146.5\"/>\n",
       "<text text-anchor=\"middle\" x=\"75\" y=\"-123.2\" font-family=\"Times New Roman,serif\" font-size=\"14.00\">data 1.0000</text>\n",
       "<polyline fill=\"none\" stroke=\"black\" points=\"115.25,-110.75 115.25,-146.5\"/>\n",
       "<text text-anchor=\"middle\" x=\"156.25\" y=\"-123.2\" font-family=\"Times New Roman,serif\" font-size=\"14.00\">grad 0.0000</text>\n",
       "</g>\n",
       "<!-- 3195758941072&#45;&gt;3195758696208* -->\n",
       "<g id=\"edge13\" class=\"edge\">\n",
       "<title>3195758941072&#45;&gt;3195758696208*</title>\n",
       "<path fill=\"none\" stroke=\"black\" d=\"M197.51,-128.5C206.8,-128.5 215.79,-128.5 223.94,-128.5\"/>\n",
       "<polygon fill=\"black\" stroke=\"black\" points=\"223.72,-132 233.72,-128.5 223.72,-125 223.72,-132\"/>\n",
       "</g>\n",
       "<!-- 3195758694544 -->\n",
       "<g id=\"node3\" class=\"node\">\n",
       "<title>3195758694544</title>\n",
       "<polygon fill=\"none\" stroke=\"black\" points=\"1380.75,-54.5 1380.75,-90.5 1566.75,-90.5 1566.75,-54.5 1380.75,-54.5\"/>\n",
       "<text text-anchor=\"middle\" x=\"1392.5\" y=\"-67.2\" font-family=\"Times New Roman,serif\" font-size=\"14.00\">o</text>\n",
       "<polyline fill=\"none\" stroke=\"black\" points=\"1404.25,-54.75 1404.25,-90.5\"/>\n",
       "<text text-anchor=\"middle\" x=\"1444.5\" y=\"-67.2\" font-family=\"Times New Roman,serif\" font-size=\"14.00\">data 0.7071</text>\n",
       "<polyline fill=\"none\" stroke=\"black\" points=\"1484.75,-54.75 1484.75,-90.5\"/>\n",
       "<text text-anchor=\"middle\" x=\"1525.75\" y=\"-67.2\" font-family=\"Times New Roman,serif\" font-size=\"14.00\">grad 1.0000</text>\n",
       "</g>\n",
       "<!-- 3195758694544tanh -->\n",
       "<g id=\"node4\" class=\"node\">\n",
       "<title>3195758694544tanh</title>\n",
       "<ellipse fill=\"none\" stroke=\"black\" cx=\"1317.75\" cy=\"-72.5\" rx=\"27\" ry=\"18\"/>\n",
       "<text text-anchor=\"middle\" x=\"1317.75\" y=\"-67.08\" font-family=\"Times New Roman,serif\" font-size=\"14.00\">tanh</text>\n",
       "</g>\n",
       "<!-- 3195758694544tanh&#45;&gt;3195758694544 -->\n",
       "<g id=\"edge1\" class=\"edge\">\n",
       "<title>3195758694544tanh&#45;&gt;3195758694544</title>\n",
       "<path fill=\"none\" stroke=\"black\" d=\"M1345.22,-72.5C1352.36,-72.5 1360.53,-72.5 1369.21,-72.5\"/>\n",
       "<polygon fill=\"black\" stroke=\"black\" points=\"1368.94,-76 1378.94,-72.5 1368.94,-69 1368.94,-76\"/>\n",
       "</g>\n",
       "<!-- 3195758690448 -->\n",
       "<g id=\"node5\" class=\"node\">\n",
       "<title>3195758690448</title>\n",
       "<polygon fill=\"none\" stroke=\"black\" points=\"671.25,-82.5 671.25,-118.5 943.5,-118.5 943.5,-82.5 671.25,-82.5\"/>\n",
       "<text text-anchor=\"middle\" x=\"723.88\" y=\"-95.2\" font-family=\"Times New Roman,serif\" font-size=\"14.00\">x1*w1 + x2*w2</text>\n",
       "<polyline fill=\"none\" stroke=\"black\" points=\"776.5,-82.75 776.5,-118.5\"/>\n",
       "<text text-anchor=\"middle\" x=\"819\" y=\"-95.2\" font-family=\"Times New Roman,serif\" font-size=\"14.00\">data &#45;6.0000</text>\n",
       "<polyline fill=\"none\" stroke=\"black\" points=\"861.5,-82.75 861.5,-118.5\"/>\n",
       "<text text-anchor=\"middle\" x=\"902.5\" y=\"-95.2\" font-family=\"Times New Roman,serif\" font-size=\"14.00\">grad 0.5000</text>\n",
       "</g>\n",
       "<!-- 3195758706064+ -->\n",
       "<g id=\"node15\" class=\"node\">\n",
       "<title>3195758706064+</title>\n",
       "<ellipse fill=\"none\" stroke=\"black\" cx=\"1006.5\" cy=\"-72.5\" rx=\"27\" ry=\"18\"/>\n",
       "<text text-anchor=\"middle\" x=\"1006.5\" y=\"-67.08\" font-family=\"Times New Roman,serif\" font-size=\"14.00\">+</text>\n",
       "</g>\n",
       "<!-- 3195758690448&#45;&gt;3195758706064+ -->\n",
       "<g id=\"edge9\" class=\"edge\">\n",
       "<title>3195758690448&#45;&gt;3195758706064+</title>\n",
       "<path fill=\"none\" stroke=\"black\" d=\"M938.49,-82.02C949.28,-80.49 959.5,-79.03 968.57,-77.75\"/>\n",
       "<polygon fill=\"black\" stroke=\"black\" points=\"968.86,-81.24 978.27,-76.37 967.87,-74.31 968.86,-81.24\"/>\n",
       "</g>\n",
       "<!-- 3195758690448+ -->\n",
       "<g id=\"node6\" class=\"node\">\n",
       "<title>3195758690448+</title>\n",
       "<ellipse fill=\"none\" stroke=\"black\" cx=\"608.25\" cy=\"-100.5\" rx=\"27\" ry=\"18\"/>\n",
       "<text text-anchor=\"middle\" x=\"608.25\" y=\"-95.08\" font-family=\"Times New Roman,serif\" font-size=\"14.00\">+</text>\n",
       "</g>\n",
       "<!-- 3195758690448+&#45;&gt;3195758690448 -->\n",
       "<g id=\"edge2\" class=\"edge\">\n",
       "<title>3195758690448+&#45;&gt;3195758690448</title>\n",
       "<path fill=\"none\" stroke=\"black\" d=\"M635.43,-100.5C642.57,-100.5 650.85,-100.5 659.84,-100.5\"/>\n",
       "<polygon fill=\"black\" stroke=\"black\" points=\"659.6,-104 669.6,-100.5 659.6,-97 659.6,-104\"/>\n",
       "</g>\n",
       "<!-- 3195758701712 -->\n",
       "<g id=\"node7\" class=\"node\">\n",
       "<title>3195758701712</title>\n",
       "<polygon fill=\"none\" stroke=\"black\" points=\"714.38,-27.5 714.38,-63.5 900.38,-63.5 900.38,-27.5 714.38,-27.5\"/>\n",
       "<text text-anchor=\"middle\" x=\"726.12\" y=\"-40.2\" font-family=\"Times New Roman,serif\" font-size=\"14.00\">b</text>\n",
       "<polyline fill=\"none\" stroke=\"black\" points=\"737.88,-27.75 737.88,-63.5\"/>\n",
       "<text text-anchor=\"middle\" x=\"778.12\" y=\"-40.2\" font-family=\"Times New Roman,serif\" font-size=\"14.00\">data 6.8814</text>\n",
       "<polyline fill=\"none\" stroke=\"black\" points=\"818.38,-27.75 818.38,-63.5\"/>\n",
       "<text text-anchor=\"middle\" x=\"859.38\" y=\"-40.2\" font-family=\"Times New Roman,serif\" font-size=\"14.00\">grad 0.5000</text>\n",
       "</g>\n",
       "<!-- 3195758701712&#45;&gt;3195758706064+ -->\n",
       "<g id=\"edge6\" class=\"edge\">\n",
       "<title>3195758701712&#45;&gt;3195758706064+</title>\n",
       "<path fill=\"none\" stroke=\"black\" d=\"M900.59,-58.13C924.65,-61.43 949.22,-64.79 968.53,-67.44\"/>\n",
       "<polygon fill=\"black\" stroke=\"black\" points=\"967.94,-70.89 978.32,-68.78 968.89,-63.95 967.94,-70.89\"/>\n",
       "</g>\n",
       "<!-- 3195758691024 -->\n",
       "<g id=\"node8\" class=\"node\">\n",
       "<title>3195758691024</title>\n",
       "<polygon fill=\"none\" stroke=\"black\" points=\"325.5,-55.5 325.5,-91.5 545.25,-91.5 545.25,-55.5 325.5,-55.5\"/>\n",
       "<text text-anchor=\"middle\" x=\"351.88\" y=\"-68.2\" font-family=\"Times New Roman,serif\" font-size=\"14.00\">x1*w1</text>\n",
       "<polyline fill=\"none\" stroke=\"black\" points=\"378.25,-55.75 378.25,-91.5\"/>\n",
       "<text text-anchor=\"middle\" x=\"420.75\" y=\"-68.2\" font-family=\"Times New Roman,serif\" font-size=\"14.00\">data &#45;6.0000</text>\n",
       "<polyline fill=\"none\" stroke=\"black\" points=\"463.25,-55.75 463.25,-91.5\"/>\n",
       "<text text-anchor=\"middle\" x=\"504.25\" y=\"-68.2\" font-family=\"Times New Roman,serif\" font-size=\"14.00\">grad 0.5000</text>\n",
       "</g>\n",
       "<!-- 3195758691024&#45;&gt;3195758690448+ -->\n",
       "<g id=\"edge14\" class=\"edge\">\n",
       "<title>3195758691024&#45;&gt;3195758690448+</title>\n",
       "<path fill=\"none\" stroke=\"black\" d=\"M545.56,-90.75C554.32,-92.14 562.71,-93.46 570.34,-94.67\"/>\n",
       "<polygon fill=\"black\" stroke=\"black\" points=\"569.7,-98.11 580.13,-96.21 570.8,-91.2 569.7,-98.11\"/>\n",
       "</g>\n",
       "<!-- 3195758691024* -->\n",
       "<g id=\"node9\" class=\"node\">\n",
       "<title>3195758691024*</title>\n",
       "<ellipse fill=\"none\" stroke=\"black\" cx=\"262.5\" cy=\"-73.5\" rx=\"27\" ry=\"18\"/>\n",
       "<text text-anchor=\"middle\" x=\"262.5\" y=\"-68.08\" font-family=\"Times New Roman,serif\" font-size=\"14.00\">*</text>\n",
       "</g>\n",
       "<!-- 3195758691024*&#45;&gt;3195758691024 -->\n",
       "<g id=\"edge3\" class=\"edge\">\n",
       "<title>3195758691024*&#45;&gt;3195758691024</title>\n",
       "<path fill=\"none\" stroke=\"black\" d=\"M289.82,-73.5C296.93,-73.5 305.11,-73.5 313.89,-73.5\"/>\n",
       "<polygon fill=\"black\" stroke=\"black\" points=\"313.78,-77 323.78,-73.5 313.78,-70 313.78,-77\"/>\n",
       "</g>\n",
       "<!-- 3195758939856 -->\n",
       "<g id=\"node10\" class=\"node\">\n",
       "<title>3195758939856</title>\n",
       "<polygon fill=\"none\" stroke=\"black\" points=\"0,-55.5 0,-91.5 199.5,-91.5 199.5,-55.5 0,-55.5\"/>\n",
       "<text text-anchor=\"middle\" x=\"16.25\" y=\"-68.2\" font-family=\"Times New Roman,serif\" font-size=\"14.00\">w1</text>\n",
       "<polyline fill=\"none\" stroke=\"black\" points=\"32.5,-55.75 32.5,-91.5\"/>\n",
       "<text text-anchor=\"middle\" x=\"75\" y=\"-68.2\" font-family=\"Times New Roman,serif\" font-size=\"14.00\">data &#45;3.0000</text>\n",
       "<polyline fill=\"none\" stroke=\"black\" points=\"117.5,-55.75 117.5,-91.5\"/>\n",
       "<text text-anchor=\"middle\" x=\"158.5\" y=\"-68.2\" font-family=\"Times New Roman,serif\" font-size=\"14.00\">grad 1.0000</text>\n",
       "</g>\n",
       "<!-- 3195758939856&#45;&gt;3195758691024* -->\n",
       "<g id=\"edge12\" class=\"edge\">\n",
       "<title>3195758939856&#45;&gt;3195758691024*</title>\n",
       "<path fill=\"none\" stroke=\"black\" d=\"M199.81,-73.5C208.19,-73.5 216.28,-73.5 223.69,-73.5\"/>\n",
       "<polygon fill=\"black\" stroke=\"black\" points=\"223.58,-77 233.58,-73.5 223.58,-70 223.58,-77\"/>\n",
       "</g>\n",
       "<!-- 3195758696208 -->\n",
       "<g id=\"node11\" class=\"node\">\n",
       "<title>3195758696208</title>\n",
       "<polygon fill=\"none\" stroke=\"black\" points=\"327.75,-110.5 327.75,-146.5 543,-146.5 543,-110.5 327.75,-110.5\"/>\n",
       "<text text-anchor=\"middle\" x=\"354.12\" y=\"-123.2\" font-family=\"Times New Roman,serif\" font-size=\"14.00\">x2*w2</text>\n",
       "<polyline fill=\"none\" stroke=\"black\" points=\"380.5,-110.75 380.5,-146.5\"/>\n",
       "<text text-anchor=\"middle\" x=\"420.75\" y=\"-123.2\" font-family=\"Times New Roman,serif\" font-size=\"14.00\">data 0.0000</text>\n",
       "<polyline fill=\"none\" stroke=\"black\" points=\"461,-110.75 461,-146.5\"/>\n",
       "<text text-anchor=\"middle\" x=\"502\" y=\"-123.2\" font-family=\"Times New Roman,serif\" font-size=\"14.00\">grad 0.5000</text>\n",
       "</g>\n",
       "<!-- 3195758696208&#45;&gt;3195758690448+ -->\n",
       "<g id=\"edge10\" class=\"edge\">\n",
       "<title>3195758696208&#45;&gt;3195758690448+</title>\n",
       "<path fill=\"none\" stroke=\"black\" d=\"M543.14,-111.01C552.86,-109.41 562.18,-107.88 570.57,-106.51\"/>\n",
       "<polygon fill=\"black\" stroke=\"black\" points=\"570.94,-110 580.25,-104.92 569.81,-103.09 570.94,-110\"/>\n",
       "</g>\n",
       "<!-- 3195758696208*&#45;&gt;3195758696208 -->\n",
       "<g id=\"edge4\" class=\"edge\">\n",
       "<title>3195758696208*&#45;&gt;3195758696208</title>\n",
       "<path fill=\"none\" stroke=\"black\" d=\"M289.82,-128.5C297.5,-128.5 306.41,-128.5 315.98,-128.5\"/>\n",
       "<polygon fill=\"black\" stroke=\"black\" points=\"315.97,-132 325.97,-128.5 315.97,-125 315.97,-132\"/>\n",
       "</g>\n",
       "<!-- 3195758937424 -->\n",
       "<g id=\"node13\" class=\"node\">\n",
       "<title>3195758937424</title>\n",
       "<polygon fill=\"none\" stroke=\"black\" points=\"1.5,-0.5 1.5,-36.5 198,-36.5 198,-0.5 1.5,-0.5\"/>\n",
       "<text text-anchor=\"middle\" x=\"16.25\" y=\"-13.2\" font-family=\"Times New Roman,serif\" font-size=\"14.00\">x1</text>\n",
       "<polyline fill=\"none\" stroke=\"black\" points=\"31,-0.75 31,-36.5\"/>\n",
       "<text text-anchor=\"middle\" x=\"71.25\" y=\"-13.2\" font-family=\"Times New Roman,serif\" font-size=\"14.00\">data 2.0000</text>\n",
       "<polyline fill=\"none\" stroke=\"black\" points=\"111.5,-0.75 111.5,-36.5\"/>\n",
       "<text text-anchor=\"middle\" x=\"154.75\" y=\"-13.2\" font-family=\"Times New Roman,serif\" font-size=\"14.00\">grad &#45;1.5000</text>\n",
       "</g>\n",
       "<!-- 3195758937424&#45;&gt;3195758691024* -->\n",
       "<g id=\"edge8\" class=\"edge\">\n",
       "<title>3195758937424&#45;&gt;3195758691024*</title>\n",
       "<path fill=\"none\" stroke=\"black\" d=\"M170.45,-36.99C180.27,-39.97 190.19,-43.17 199.5,-46.5 209.46,-50.06 220.09,-54.46 229.68,-58.67\"/>\n",
       "<polygon fill=\"black\" stroke=\"black\" points=\"228.04,-61.77 238.6,-62.66 230.9,-55.38 228.04,-61.77\"/>\n",
       "</g>\n",
       "<!-- 3195758706064 -->\n",
       "<g id=\"node14\" class=\"node\">\n",
       "<title>3195758706064</title>\n",
       "<polygon fill=\"none\" stroke=\"black\" points=\"1069.5,-54.5 1069.5,-90.5 1254.75,-90.5 1254.75,-54.5 1069.5,-54.5\"/>\n",
       "<text text-anchor=\"middle\" x=\"1080.88\" y=\"-67.2\" font-family=\"Times New Roman,serif\" font-size=\"14.00\">n</text>\n",
       "<polyline fill=\"none\" stroke=\"black\" points=\"1092.25,-54.75 1092.25,-90.5\"/>\n",
       "<text text-anchor=\"middle\" x=\"1132.5\" y=\"-67.2\" font-family=\"Times New Roman,serif\" font-size=\"14.00\">data 0.8814</text>\n",
       "<polyline fill=\"none\" stroke=\"black\" points=\"1172.75,-54.75 1172.75,-90.5\"/>\n",
       "<text text-anchor=\"middle\" x=\"1213.75\" y=\"-67.2\" font-family=\"Times New Roman,serif\" font-size=\"14.00\">grad 0.5000</text>\n",
       "</g>\n",
       "<!-- 3195758706064&#45;&gt;3195758694544tanh -->\n",
       "<g id=\"edge11\" class=\"edge\">\n",
       "<title>3195758706064&#45;&gt;3195758694544tanh</title>\n",
       "<path fill=\"none\" stroke=\"black\" d=\"M1255.15,-72.5C1263.52,-72.5 1271.64,-72.5 1279.09,-72.5\"/>\n",
       "<polygon fill=\"black\" stroke=\"black\" points=\"1279.03,-76 1289.03,-72.5 1279.03,-69 1279.03,-76\"/>\n",
       "</g>\n",
       "<!-- 3195758706064+&#45;&gt;3195758706064 -->\n",
       "<g id=\"edge5\" class=\"edge\">\n",
       "<title>3195758706064+&#45;&gt;3195758706064</title>\n",
       "<path fill=\"none\" stroke=\"black\" d=\"M1033.91,-72.5C1040.95,-72.5 1049,-72.5 1057.55,-72.5\"/>\n",
       "<polygon fill=\"black\" stroke=\"black\" points=\"1057.54,-76 1067.54,-72.5 1057.54,-69 1057.54,-76\"/>\n",
       "</g>\n",
       "</g>\n",
       "</svg>\n"
      ],
      "text/plain": [
       "<graphviz.graphs.Digraph at 0x2e811f77410>"
      ]
     },
     "execution_count": 163,
     "metadata": {},
     "output_type": "execute_result"
    }
   ],
   "source": [
    "draw_dot(o)"
   ]
  },
  {
   "cell_type": "code",
   "execution_count": 162,
   "metadata": {},
   "outputs": [],
   "source": [
    "# Backprop using the backward() function and topological sort\n",
    "o.backward()"
   ]
  },
  {
   "cell_type": "code",
   "execution_count": 240,
   "metadata": {},
   "outputs": [
    {
     "data": {
      "image/svg+xml": [
       "<?xml version=\"1.0\" encoding=\"UTF-8\" standalone=\"no\"?>\n",
       "<!DOCTYPE svg PUBLIC \"-//W3C//DTD SVG 1.1//EN\"\n",
       " \"http://www.w3.org/Graphics/SVG/1.1/DTD/svg11.dtd\">\n",
       "<!-- Generated by graphviz version 10.0.1 (20240210.2158)\n",
       " -->\n",
       "<!-- Pages: 1 -->\n",
       "<svg width=\"2945pt\" height=\"210pt\"\n",
       " viewBox=\"0.00 0.00 2945.00 210.00\" xmlns=\"http://www.w3.org/2000/svg\" xmlns:xlink=\"http://www.w3.org/1999/xlink\">\n",
       "<g id=\"graph0\" class=\"graph\" transform=\"scale(1 1) rotate(0) translate(4 206)\">\n",
       "<polygon fill=\"white\" stroke=\"none\" points=\"-4,4 -4,-206 2941,-206 2941,4 -4,4\"/>\n",
       "<!-- 3195870325264 -->\n",
       "<g id=\"node1\" class=\"node\">\n",
       "<title>3195870325264</title>\n",
       "<polygon fill=\"none\" stroke=\"black\" points=\"714.38,-137.5 714.38,-173.5 900.38,-173.5 900.38,-137.5 714.38,-137.5\"/>\n",
       "<text text-anchor=\"middle\" x=\"726.12\" y=\"-150.2\" font-family=\"Times New Roman,serif\" font-size=\"14.00\">b</text>\n",
       "<polyline fill=\"none\" stroke=\"black\" points=\"737.88,-137.75 737.88,-173.5\"/>\n",
       "<text text-anchor=\"middle\" x=\"778.12\" y=\"-150.2\" font-family=\"Times New Roman,serif\" font-size=\"14.00\">data 6.8814</text>\n",
       "<polyline fill=\"none\" stroke=\"black\" points=\"818.38,-137.75 818.38,-173.5\"/>\n",
       "<text text-anchor=\"middle\" x=\"859.38\" y=\"-150.2\" font-family=\"Times New Roman,serif\" font-size=\"14.00\">grad 0.5000</text>\n",
       "</g>\n",
       "<!-- 3195870326160+ -->\n",
       "<g id=\"node26\" class=\"node\">\n",
       "<title>3195870326160+</title>\n",
       "<ellipse fill=\"none\" stroke=\"black\" cx=\"1006.5\" cy=\"-127.5\" rx=\"27\" ry=\"18\"/>\n",
       "<text text-anchor=\"middle\" x=\"1006.5\" y=\"-122.08\" font-family=\"Times New Roman,serif\" font-size=\"14.00\">+</text>\n",
       "</g>\n",
       "<!-- 3195870325264&#45;&gt;3195870326160+ -->\n",
       "<g id=\"edge27\" class=\"edge\">\n",
       "<title>3195870325264&#45;&gt;3195870326160+</title>\n",
       "<path fill=\"none\" stroke=\"black\" d=\"M900.59,-142.4C924.65,-138.98 949.22,-135.49 968.53,-132.75\"/>\n",
       "<polygon fill=\"black\" stroke=\"black\" points=\"968.92,-136.23 978.32,-131.36 967.93,-129.3 968.92,-136.23\"/>\n",
       "</g>\n",
       "<!-- 3195871959568 -->\n",
       "<g id=\"node2\" class=\"node\">\n",
       "<title>3195871959568</title>\n",
       "<polygon fill=\"none\" stroke=\"black\" points=\"3.75,-165.5 3.75,-201.5 195.75,-201.5 195.75,-165.5 3.75,-165.5\"/>\n",
       "<text text-anchor=\"middle\" x=\"18.5\" y=\"-178.2\" font-family=\"Times New Roman,serif\" font-size=\"14.00\">x2</text>\n",
       "<polyline fill=\"none\" stroke=\"black\" points=\"33.25,-165.75 33.25,-201.5\"/>\n",
       "<text text-anchor=\"middle\" x=\"73.5\" y=\"-178.2\" font-family=\"Times New Roman,serif\" font-size=\"14.00\">data 0.0000</text>\n",
       "<polyline fill=\"none\" stroke=\"black\" points=\"113.75,-165.75 113.75,-201.5\"/>\n",
       "<text text-anchor=\"middle\" x=\"154.75\" y=\"-178.2\" font-family=\"Times New Roman,serif\" font-size=\"14.00\">grad 0.5000</text>\n",
       "</g>\n",
       "<!-- 3195870329424* -->\n",
       "<g id=\"node8\" class=\"node\">\n",
       "<title>3195870329424*</title>\n",
       "<ellipse fill=\"none\" stroke=\"black\" cx=\"262.5\" cy=\"-128.5\" rx=\"27\" ry=\"18\"/>\n",
       "<text text-anchor=\"middle\" x=\"262.5\" y=\"-123.08\" font-family=\"Times New Roman,serif\" font-size=\"14.00\">*</text>\n",
       "</g>\n",
       "<!-- 3195871959568&#45;&gt;3195870329424* -->\n",
       "<g id=\"edge22\" class=\"edge\">\n",
       "<title>3195871959568&#45;&gt;3195870329424*</title>\n",
       "<path fill=\"none\" stroke=\"black\" d=\"M173.43,-165.03C182.28,-162.37 191.14,-159.51 199.5,-156.5 209.59,-152.87 220.33,-148.29 229.98,-143.89\"/>\n",
       "<polygon fill=\"black\" stroke=\"black\" points=\"231.37,-147.1 238.95,-139.7 228.41,-140.76 231.37,-147.1\"/>\n",
       "</g>\n",
       "<!-- 3195870321168 -->\n",
       "<g id=\"node3\" class=\"node\">\n",
       "<title>3195870321168</title>\n",
       "<polygon fill=\"none\" stroke=\"black\" points=\"2.25,-110.5 2.25,-146.5 197.25,-146.5 197.25,-110.5 2.25,-110.5\"/>\n",
       "<text text-anchor=\"middle\" x=\"18.5\" y=\"-123.2\" font-family=\"Times New Roman,serif\" font-size=\"14.00\">w2</text>\n",
       "<polyline fill=\"none\" stroke=\"black\" points=\"34.75,-110.75 34.75,-146.5\"/>\n",
       "<text text-anchor=\"middle\" x=\"75\" y=\"-123.2\" font-family=\"Times New Roman,serif\" font-size=\"14.00\">data 1.0000</text>\n",
       "<polyline fill=\"none\" stroke=\"black\" points=\"115.25,-110.75 115.25,-146.5\"/>\n",
       "<text text-anchor=\"middle\" x=\"156.25\" y=\"-123.2\" font-family=\"Times New Roman,serif\" font-size=\"14.00\">grad 0.0000</text>\n",
       "</g>\n",
       "<!-- 3195870321168&#45;&gt;3195870329424* -->\n",
       "<g id=\"edge13\" class=\"edge\">\n",
       "<title>3195870321168&#45;&gt;3195870329424*</title>\n",
       "<path fill=\"none\" stroke=\"black\" d=\"M197.51,-128.5C206.8,-128.5 215.79,-128.5 223.94,-128.5\"/>\n",
       "<polygon fill=\"black\" stroke=\"black\" points=\"223.72,-132 233.72,-128.5 223.72,-125 223.72,-132\"/>\n",
       "</g>\n",
       "<!-- 3195860820496 -->\n",
       "<g id=\"node4\" class=\"node\">\n",
       "<title>3195860820496</title>\n",
       "<polygon fill=\"none\" stroke=\"black\" points=\"1689,-136.5 1689,-172.5 1875.75,-172.5 1875.75,-136.5 1689,-136.5\"/>\n",
       "<text text-anchor=\"middle\" x=\"1698.88\" y=\"-149.2\" font-family=\"Times New Roman,serif\" font-size=\"14.00\"> </text>\n",
       "<polyline fill=\"none\" stroke=\"black\" points=\"1708.75,-136.75 1708.75,-172.5\"/>\n",
       "<text text-anchor=\"middle\" x=\"1751.25\" y=\"-149.2\" font-family=\"Times New Roman,serif\" font-size=\"14.00\">data &#45;1.0000</text>\n",
       "<polyline fill=\"none\" stroke=\"black\" points=\"1793.75,-136.75 1793.75,-172.5\"/>\n",
       "<text text-anchor=\"middle\" x=\"1834.75\" y=\"-149.2\" font-family=\"Times New Roman,serif\" font-size=\"14.00\">grad 0.1464</text>\n",
       "</g>\n",
       "<!-- 3195859996752+ -->\n",
       "<g id=\"node10\" class=\"node\">\n",
       "<title>3195859996752+</title>\n",
       "<ellipse fill=\"none\" stroke=\"black\" cx=\"1938.75\" cy=\"-126.5\" rx=\"27\" ry=\"18\"/>\n",
       "<text text-anchor=\"middle\" x=\"1938.75\" y=\"-121.08\" font-family=\"Times New Roman,serif\" font-size=\"14.00\">+</text>\n",
       "</g>\n",
       "<!-- 3195860820496&#45;&gt;3195859996752+ -->\n",
       "<g id=\"edge18\" class=\"edge\">\n",
       "<title>3195860820496&#45;&gt;3195859996752+</title>\n",
       "<path fill=\"none\" stroke=\"black\" d=\"M1875.85,-137.73C1884.72,-136.12 1893.31,-134.56 1901.12,-133.14\"/>\n",
       "<polygon fill=\"black\" stroke=\"black\" points=\"1901.62,-136.61 1910.83,-131.38 1900.37,-129.72 1901.62,-136.61\"/>\n",
       "</g>\n",
       "<!-- 3195870323280 -->\n",
       "<g id=\"node5\" class=\"node\">\n",
       "<title>3195870323280</title>\n",
       "<polygon fill=\"none\" stroke=\"black\" points=\"2751,-80.5 2751,-116.5 2937,-116.5 2937,-80.5 2751,-80.5\"/>\n",
       "<text text-anchor=\"middle\" x=\"2762.75\" y=\"-93.2\" font-family=\"Times New Roman,serif\" font-size=\"14.00\">o</text>\n",
       "<polyline fill=\"none\" stroke=\"black\" points=\"2774.5,-80.75 2774.5,-116.5\"/>\n",
       "<text text-anchor=\"middle\" x=\"2814.75\" y=\"-93.2\" font-family=\"Times New Roman,serif\" font-size=\"14.00\">data 0.7071</text>\n",
       "<polyline fill=\"none\" stroke=\"black\" points=\"2855,-80.75 2855,-116.5\"/>\n",
       "<text text-anchor=\"middle\" x=\"2896\" y=\"-93.2\" font-family=\"Times New Roman,serif\" font-size=\"14.00\">grad 1.0000</text>\n",
       "</g>\n",
       "<!-- 3195870323280* -->\n",
       "<g id=\"node6\" class=\"node\">\n",
       "<title>3195870323280*</title>\n",
       "<ellipse fill=\"none\" stroke=\"black\" cx=\"2688\" cy=\"-98.5\" rx=\"27\" ry=\"18\"/>\n",
       "<text text-anchor=\"middle\" x=\"2688\" y=\"-93.08\" font-family=\"Times New Roman,serif\" font-size=\"14.00\">*</text>\n",
       "</g>\n",
       "<!-- 3195870323280*&#45;&gt;3195870323280 -->\n",
       "<g id=\"edge1\" class=\"edge\">\n",
       "<title>3195870323280*&#45;&gt;3195870323280</title>\n",
       "<path fill=\"none\" stroke=\"black\" d=\"M2715.47,-98.5C2722.61,-98.5 2730.78,-98.5 2739.46,-98.5\"/>\n",
       "<polygon fill=\"black\" stroke=\"black\" points=\"2739.19,-102 2749.19,-98.5 2739.19,-95 2739.19,-102\"/>\n",
       "</g>\n",
       "<!-- 3195870329424 -->\n",
       "<g id=\"node7\" class=\"node\">\n",
       "<title>3195870329424</title>\n",
       "<polygon fill=\"none\" stroke=\"black\" points=\"327.75,-110.5 327.75,-146.5 543,-146.5 543,-110.5 327.75,-110.5\"/>\n",
       "<text text-anchor=\"middle\" x=\"354.12\" y=\"-123.2\" font-family=\"Times New Roman,serif\" font-size=\"14.00\">x2*w2</text>\n",
       "<polyline fill=\"none\" stroke=\"black\" points=\"380.5,-110.75 380.5,-146.5\"/>\n",
       "<text text-anchor=\"middle\" x=\"420.75\" y=\"-123.2\" font-family=\"Times New Roman,serif\" font-size=\"14.00\">data 0.0000</text>\n",
       "<polyline fill=\"none\" stroke=\"black\" points=\"461,-110.75 461,-146.5\"/>\n",
       "<text text-anchor=\"middle\" x=\"502\" y=\"-123.2\" font-family=\"Times New Roman,serif\" font-size=\"14.00\">grad 0.5000</text>\n",
       "</g>\n",
       "<!-- 3195870330320+ -->\n",
       "<g id=\"node19\" class=\"node\">\n",
       "<title>3195870330320+</title>\n",
       "<ellipse fill=\"none\" stroke=\"black\" cx=\"608.25\" cy=\"-100.5\" rx=\"27\" ry=\"18\"/>\n",
       "<text text-anchor=\"middle\" x=\"608.25\" y=\"-95.08\" font-family=\"Times New Roman,serif\" font-size=\"14.00\">+</text>\n",
       "</g>\n",
       "<!-- 3195870329424&#45;&gt;3195870330320+ -->\n",
       "<g id=\"edge23\" class=\"edge\">\n",
       "<title>3195870329424&#45;&gt;3195870330320+</title>\n",
       "<path fill=\"none\" stroke=\"black\" d=\"M543.14,-111.01C552.86,-109.41 562.18,-107.88 570.57,-106.51\"/>\n",
       "<polygon fill=\"black\" stroke=\"black\" points=\"570.94,-110 580.25,-104.92 569.81,-103.09 570.94,-110\"/>\n",
       "</g>\n",
       "<!-- 3195870329424*&#45;&gt;3195870329424 -->\n",
       "<g id=\"edge2\" class=\"edge\">\n",
       "<title>3195870329424*&#45;&gt;3195870329424</title>\n",
       "<path fill=\"none\" stroke=\"black\" d=\"M289.82,-128.5C297.5,-128.5 306.41,-128.5 315.98,-128.5\"/>\n",
       "<polygon fill=\"black\" stroke=\"black\" points=\"315.97,-132 325.97,-128.5 315.97,-125 315.97,-132\"/>\n",
       "</g>\n",
       "<!-- 3195859996752 -->\n",
       "<g id=\"node9\" class=\"node\">\n",
       "<title>3195859996752</title>\n",
       "<polygon fill=\"none\" stroke=\"black\" points=\"2224.5,-108.5 2224.5,-144.5 2406.75,-144.5 2406.75,-108.5 2224.5,-108.5\"/>\n",
       "<text text-anchor=\"middle\" x=\"2234.38\" y=\"-121.2\" font-family=\"Times New Roman,serif\" font-size=\"14.00\"> </text>\n",
       "<polyline fill=\"none\" stroke=\"black\" points=\"2244.25,-108.75 2244.25,-144.5\"/>\n",
       "<text text-anchor=\"middle\" x=\"2284.5\" y=\"-121.2\" font-family=\"Times New Roman,serif\" font-size=\"14.00\">data 4.8284</text>\n",
       "<polyline fill=\"none\" stroke=\"black\" points=\"2324.75,-108.75 2324.75,-144.5\"/>\n",
       "<text text-anchor=\"middle\" x=\"2365.75\" y=\"-121.2\" font-family=\"Times New Roman,serif\" font-size=\"14.00\">grad 0.1464</text>\n",
       "</g>\n",
       "<!-- 3195859996752&#45;&gt;3195870323280* -->\n",
       "<g id=\"edge19\" class=\"edge\">\n",
       "<title>3195859996752&#45;&gt;3195870323280*</title>\n",
       "<path fill=\"none\" stroke=\"black\" d=\"M2407.04,-119.9C2468.51,-115.38 2551.67,-109.19 2625,-103.5 2632.88,-102.89 2641.33,-102.22 2649.38,-101.57\"/>\n",
       "<polygon fill=\"black\" stroke=\"black\" points=\"2649.56,-105.07 2659.25,-100.77 2649,-98.09 2649.56,-105.07\"/>\n",
       "</g>\n",
       "<!-- 3195859996752+&#45;&gt;3195859996752 -->\n",
       "<g id=\"edge3\" class=\"edge\">\n",
       "<title>3195859996752+&#45;&gt;3195859996752</title>\n",
       "<path fill=\"none\" stroke=\"black\" d=\"M1966.11,-126.5C2016.54,-126.5 2129.09,-126.5 2212.72,-126.5\"/>\n",
       "<polygon fill=\"black\" stroke=\"black\" points=\"2212.55,-130 2222.55,-126.5 2212.55,-123 2212.55,-130\"/>\n",
       "</g>\n",
       "<!-- 3195870328976 -->\n",
       "<g id=\"node11\" class=\"node\">\n",
       "<title>3195870328976</title>\n",
       "<polygon fill=\"none\" stroke=\"black\" points=\"2001.75,-53.5 2001.75,-89.5 2188.5,-89.5 2188.5,-53.5 2001.75,-53.5\"/>\n",
       "<text text-anchor=\"middle\" x=\"2011.62\" y=\"-66.2\" font-family=\"Times New Roman,serif\" font-size=\"14.00\"> </text>\n",
       "<polyline fill=\"none\" stroke=\"black\" points=\"2021.5,-53.75 2021.5,-89.5\"/>\n",
       "<text text-anchor=\"middle\" x=\"2061.75\" y=\"-66.2\" font-family=\"Times New Roman,serif\" font-size=\"14.00\">data 6.8284</text>\n",
       "<polyline fill=\"none\" stroke=\"black\" points=\"2102,-53.75 2102,-89.5\"/>\n",
       "<text text-anchor=\"middle\" x=\"2145.25\" y=\"-66.2\" font-family=\"Times New Roman,serif\" font-size=\"14.00\">grad &#45;0.1036</text>\n",
       "</g>\n",
       "<!-- 3195860157904**&#45;1 -->\n",
       "<g id=\"node28\" class=\"node\">\n",
       "<title>3195860157904**&#45;1</title>\n",
       "<ellipse fill=\"none\" stroke=\"black\" cx=\"2315.62\" cy=\"-71.5\" rx=\"27.11\" ry=\"18\"/>\n",
       "<text text-anchor=\"middle\" x=\"2315.62\" y=\"-66.08\" font-family=\"Times New Roman,serif\" font-size=\"14.00\">**&#45;1</text>\n",
       "</g>\n",
       "<!-- 3195870328976&#45;&gt;3195860157904**&#45;1 -->\n",
       "<g id=\"edge11\" class=\"edge\">\n",
       "<title>3195870328976&#45;&gt;3195860157904**&#45;1</title>\n",
       "<path fill=\"none\" stroke=\"black\" d=\"M2188.79,-71.5C2219.78,-71.5 2252.58,-71.5 2276.93,-71.5\"/>\n",
       "<polygon fill=\"black\" stroke=\"black\" points=\"2276.64,-75 2286.64,-71.5 2276.64,-68 2276.64,-75\"/>\n",
       "</g>\n",
       "<!-- 3195870328976+ -->\n",
       "<g id=\"node12\" class=\"node\">\n",
       "<title>3195870328976+</title>\n",
       "<ellipse fill=\"none\" stroke=\"black\" cx=\"1938.75\" cy=\"-71.5\" rx=\"27\" ry=\"18\"/>\n",
       "<text text-anchor=\"middle\" x=\"1938.75\" y=\"-66.08\" font-family=\"Times New Roman,serif\" font-size=\"14.00\">+</text>\n",
       "</g>\n",
       "<!-- 3195870328976+&#45;&gt;3195870328976 -->\n",
       "<g id=\"edge4\" class=\"edge\">\n",
       "<title>3195870328976+&#45;&gt;3195870328976</title>\n",
       "<path fill=\"none\" stroke=\"black\" d=\"M1965.94,-71.5C1973.07,-71.5 1981.27,-71.5 1989.98,-71.5\"/>\n",
       "<polygon fill=\"black\" stroke=\"black\" points=\"1989.75,-75 1999.75,-71.5 1989.75,-68 1989.75,-75\"/>\n",
       "</g>\n",
       "<!-- 3195871954064 -->\n",
       "<g id=\"node13\" class=\"node\">\n",
       "<title>3195871954064</title>\n",
       "<polygon fill=\"none\" stroke=\"black\" points=\"1.5,-55.5 1.5,-91.5 198,-91.5 198,-55.5 1.5,-55.5\"/>\n",
       "<text text-anchor=\"middle\" x=\"16.25\" y=\"-68.2\" font-family=\"Times New Roman,serif\" font-size=\"14.00\">x1</text>\n",
       "<polyline fill=\"none\" stroke=\"black\" points=\"31,-55.75 31,-91.5\"/>\n",
       "<text text-anchor=\"middle\" x=\"71.25\" y=\"-68.2\" font-family=\"Times New Roman,serif\" font-size=\"14.00\">data 2.0000</text>\n",
       "<polyline fill=\"none\" stroke=\"black\" points=\"111.5,-55.75 111.5,-91.5\"/>\n",
       "<text text-anchor=\"middle\" x=\"154.75\" y=\"-68.2\" font-family=\"Times New Roman,serif\" font-size=\"14.00\">grad &#45;1.5000</text>\n",
       "</g>\n",
       "<!-- 3195870329552* -->\n",
       "<g id=\"node16\" class=\"node\">\n",
       "<title>3195870329552*</title>\n",
       "<ellipse fill=\"none\" stroke=\"black\" cx=\"262.5\" cy=\"-73.5\" rx=\"27\" ry=\"18\"/>\n",
       "<text text-anchor=\"middle\" x=\"262.5\" y=\"-68.08\" font-family=\"Times New Roman,serif\" font-size=\"14.00\">*</text>\n",
       "</g>\n",
       "<!-- 3195871954064&#45;&gt;3195870329552* -->\n",
       "<g id=\"edge17\" class=\"edge\">\n",
       "<title>3195871954064&#45;&gt;3195870329552*</title>\n",
       "<path fill=\"none\" stroke=\"black\" d=\"M198.43,-73.5C207.33,-73.5 215.94,-73.5 223.79,-73.5\"/>\n",
       "<polygon fill=\"black\" stroke=\"black\" points=\"223.53,-77 233.53,-73.5 223.53,-70 223.53,-77\"/>\n",
       "</g>\n",
       "<!-- 3195817009808 -->\n",
       "<g id=\"node14\" class=\"node\">\n",
       "<title>3195817009808</title>\n",
       "<polygon fill=\"none\" stroke=\"black\" points=\"1071,-54.5 1071,-90.5 1253.25,-90.5 1253.25,-54.5 1071,-54.5\"/>\n",
       "<text text-anchor=\"middle\" x=\"1080.88\" y=\"-67.2\" font-family=\"Times New Roman,serif\" font-size=\"14.00\"> </text>\n",
       "<polyline fill=\"none\" stroke=\"black\" points=\"1090.75,-54.75 1090.75,-90.5\"/>\n",
       "<text text-anchor=\"middle\" x=\"1131\" y=\"-67.2\" font-family=\"Times New Roman,serif\" font-size=\"14.00\">data 2.0000</text>\n",
       "<polyline fill=\"none\" stroke=\"black\" points=\"1171.25,-54.75 1171.25,-90.5\"/>\n",
       "<text text-anchor=\"middle\" x=\"1212.25\" y=\"-67.2\" font-family=\"Times New Roman,serif\" font-size=\"14.00\">grad 0.2203</text>\n",
       "</g>\n",
       "<!-- 3195871953168* -->\n",
       "<g id=\"node21\" class=\"node\">\n",
       "<title>3195871953168*</title>\n",
       "<ellipse fill=\"none\" stroke=\"black\" cx=\"1317.75\" cy=\"-99.5\" rx=\"27\" ry=\"18\"/>\n",
       "<text text-anchor=\"middle\" x=\"1317.75\" y=\"-94.08\" font-family=\"Times New Roman,serif\" font-size=\"14.00\">*</text>\n",
       "</g>\n",
       "<!-- 3195817009808&#45;&gt;3195871953168* -->\n",
       "<g id=\"edge28\" class=\"edge\">\n",
       "<title>3195817009808&#45;&gt;3195871953168*</title>\n",
       "<path fill=\"none\" stroke=\"black\" d=\"M1253.38,-88.36C1262.68,-90 1271.71,-91.58 1279.9,-93.02\"/>\n",
       "<polygon fill=\"black\" stroke=\"black\" points=\"1279.29,-96.47 1289.75,-94.75 1280.5,-89.58 1279.29,-96.47\"/>\n",
       "</g>\n",
       "<!-- 3195870329552 -->\n",
       "<g id=\"node15\" class=\"node\">\n",
       "<title>3195870329552</title>\n",
       "<polygon fill=\"none\" stroke=\"black\" points=\"325.5,-55.5 325.5,-91.5 545.25,-91.5 545.25,-55.5 325.5,-55.5\"/>\n",
       "<text text-anchor=\"middle\" x=\"351.88\" y=\"-68.2\" font-family=\"Times New Roman,serif\" font-size=\"14.00\">x1*w1</text>\n",
       "<polyline fill=\"none\" stroke=\"black\" points=\"378.25,-55.75 378.25,-91.5\"/>\n",
       "<text text-anchor=\"middle\" x=\"420.75\" y=\"-68.2\" font-family=\"Times New Roman,serif\" font-size=\"14.00\">data &#45;6.0000</text>\n",
       "<polyline fill=\"none\" stroke=\"black\" points=\"463.25,-55.75 463.25,-91.5\"/>\n",
       "<text text-anchor=\"middle\" x=\"504.25\" y=\"-68.2\" font-family=\"Times New Roman,serif\" font-size=\"14.00\">grad 0.5000</text>\n",
       "</g>\n",
       "<!-- 3195870329552&#45;&gt;3195870330320+ -->\n",
       "<g id=\"edge25\" class=\"edge\">\n",
       "<title>3195870329552&#45;&gt;3195870330320+</title>\n",
       "<path fill=\"none\" stroke=\"black\" d=\"M545.56,-90.75C554.32,-92.14 562.71,-93.46 570.34,-94.67\"/>\n",
       "<polygon fill=\"black\" stroke=\"black\" points=\"569.7,-98.11 580.13,-96.21 570.8,-91.2 569.7,-98.11\"/>\n",
       "</g>\n",
       "<!-- 3195870329552*&#45;&gt;3195870329552 -->\n",
       "<g id=\"edge5\" class=\"edge\">\n",
       "<title>3195870329552*&#45;&gt;3195870329552</title>\n",
       "<path fill=\"none\" stroke=\"black\" d=\"M289.82,-73.5C296.93,-73.5 305.11,-73.5 313.89,-73.5\"/>\n",
       "<polygon fill=\"black\" stroke=\"black\" points=\"313.78,-77 323.78,-73.5 313.78,-70 313.78,-77\"/>\n",
       "</g>\n",
       "<!-- 3195871959760 -->\n",
       "<g id=\"node17\" class=\"node\">\n",
       "<title>3195871959760</title>\n",
       "<polygon fill=\"none\" stroke=\"black\" points=\"0,-0.5 0,-36.5 199.5,-36.5 199.5,-0.5 0,-0.5\"/>\n",
       "<text text-anchor=\"middle\" x=\"16.25\" y=\"-13.2\" font-family=\"Times New Roman,serif\" font-size=\"14.00\">w1</text>\n",
       "<polyline fill=\"none\" stroke=\"black\" points=\"32.5,-0.75 32.5,-36.5\"/>\n",
       "<text text-anchor=\"middle\" x=\"75\" y=\"-13.2\" font-family=\"Times New Roman,serif\" font-size=\"14.00\">data &#45;3.0000</text>\n",
       "<polyline fill=\"none\" stroke=\"black\" points=\"117.5,-0.75 117.5,-36.5\"/>\n",
       "<text text-anchor=\"middle\" x=\"158.5\" y=\"-13.2\" font-family=\"Times New Roman,serif\" font-size=\"14.00\">grad 1.0000</text>\n",
       "</g>\n",
       "<!-- 3195871959760&#45;&gt;3195870329552* -->\n",
       "<g id=\"edge12\" class=\"edge\">\n",
       "<title>3195871959760&#45;&gt;3195870329552*</title>\n",
       "<path fill=\"none\" stroke=\"black\" d=\"M173.43,-36.97C182.28,-39.63 191.14,-42.49 199.5,-45.5 209.59,-49.13 220.33,-53.71 229.98,-58.11\"/>\n",
       "<polygon fill=\"black\" stroke=\"black\" points=\"228.41,-61.24 238.95,-62.3 231.37,-54.9 228.41,-61.24\"/>\n",
       "</g>\n",
       "<!-- 3195870330320 -->\n",
       "<g id=\"node18\" class=\"node\">\n",
       "<title>3195870330320</title>\n",
       "<polygon fill=\"none\" stroke=\"black\" points=\"671.25,-82.5 671.25,-118.5 943.5,-118.5 943.5,-82.5 671.25,-82.5\"/>\n",
       "<text text-anchor=\"middle\" x=\"723.88\" y=\"-95.2\" font-family=\"Times New Roman,serif\" font-size=\"14.00\">x1*w1 + x2*w2</text>\n",
       "<polyline fill=\"none\" stroke=\"black\" points=\"776.5,-82.75 776.5,-118.5\"/>\n",
       "<text text-anchor=\"middle\" x=\"819\" y=\"-95.2\" font-family=\"Times New Roman,serif\" font-size=\"14.00\">data &#45;6.0000</text>\n",
       "<polyline fill=\"none\" stroke=\"black\" points=\"861.5,-82.75 861.5,-118.5\"/>\n",
       "<text text-anchor=\"middle\" x=\"902.5\" y=\"-95.2\" font-family=\"Times New Roman,serif\" font-size=\"14.00\">grad 0.5000</text>\n",
       "</g>\n",
       "<!-- 3195870330320&#45;&gt;3195870326160+ -->\n",
       "<g id=\"edge16\" class=\"edge\">\n",
       "<title>3195870330320&#45;&gt;3195870326160+</title>\n",
       "<path fill=\"none\" stroke=\"black\" d=\"M943.4,-118.99C952.34,-120.22 960.81,-121.38 968.46,-122.43\"/>\n",
       "<polygon fill=\"black\" stroke=\"black\" points=\"967.87,-125.88 978.25,-123.77 968.82,-118.94 967.87,-125.88\"/>\n",
       "</g>\n",
       "<!-- 3195870330320+&#45;&gt;3195870330320 -->\n",
       "<g id=\"edge6\" class=\"edge\">\n",
       "<title>3195870330320+&#45;&gt;3195870330320</title>\n",
       "<path fill=\"none\" stroke=\"black\" d=\"M635.43,-100.5C642.57,-100.5 650.85,-100.5 659.84,-100.5\"/>\n",
       "<polygon fill=\"black\" stroke=\"black\" points=\"659.6,-104 669.6,-100.5 659.6,-97 659.6,-104\"/>\n",
       "</g>\n",
       "<!-- 3195871953168 -->\n",
       "<g id=\"node20\" class=\"node\">\n",
       "<title>3195871953168</title>\n",
       "<polygon fill=\"none\" stroke=\"black\" points=\"1380.75,-81.5 1380.75,-117.5 1563,-117.5 1563,-81.5 1380.75,-81.5\"/>\n",
       "<text text-anchor=\"middle\" x=\"1390.62\" y=\"-94.2\" font-family=\"Times New Roman,serif\" font-size=\"14.00\"> </text>\n",
       "<polyline fill=\"none\" stroke=\"black\" points=\"1400.5,-81.75 1400.5,-117.5\"/>\n",
       "<text text-anchor=\"middle\" x=\"1440.75\" y=\"-94.2\" font-family=\"Times New Roman,serif\" font-size=\"14.00\">data 1.7627</text>\n",
       "<polyline fill=\"none\" stroke=\"black\" points=\"1481,-81.75 1481,-117.5\"/>\n",
       "<text text-anchor=\"middle\" x=\"1522\" y=\"-94.2\" font-family=\"Times New Roman,serif\" font-size=\"14.00\">grad 0.2500</text>\n",
       "</g>\n",
       "<!-- 3195859994960exp -->\n",
       "<g id=\"node23\" class=\"node\">\n",
       "<title>3195859994960exp</title>\n",
       "<ellipse fill=\"none\" stroke=\"black\" cx=\"1626\" cy=\"-99.5\" rx=\"27\" ry=\"18\"/>\n",
       "<text text-anchor=\"middle\" x=\"1626\" y=\"-94.08\" font-family=\"Times New Roman,serif\" font-size=\"14.00\">exp</text>\n",
       "</g>\n",
       "<!-- 3195871953168&#45;&gt;3195859994960exp -->\n",
       "<g id=\"edge26\" class=\"edge\">\n",
       "<title>3195871953168&#45;&gt;3195859994960exp</title>\n",
       "<path fill=\"none\" stroke=\"black\" d=\"M1563.12,-99.5C1571.51,-99.5 1579.65,-99.5 1587.12,-99.5\"/>\n",
       "<polygon fill=\"black\" stroke=\"black\" points=\"1587.12,-103 1597.12,-99.5 1587.12,-96 1587.12,-103\"/>\n",
       "</g>\n",
       "<!-- 3195871953168*&#45;&gt;3195871953168 -->\n",
       "<g id=\"edge7\" class=\"edge\">\n",
       "<title>3195871953168*&#45;&gt;3195871953168</title>\n",
       "<path fill=\"none\" stroke=\"black\" d=\"M1345.25,-99.5C1352.29,-99.5 1360.34,-99.5 1368.88,-99.5\"/>\n",
       "<polygon fill=\"black\" stroke=\"black\" points=\"1368.84,-103 1378.84,-99.5 1368.84,-96 1368.84,-103\"/>\n",
       "</g>\n",
       "<!-- 3195859994960 -->\n",
       "<g id=\"node22\" class=\"node\">\n",
       "<title>3195859994960</title>\n",
       "<polygon fill=\"none\" stroke=\"black\" points=\"1691.25,-81.5 1691.25,-117.5 1873.5,-117.5 1873.5,-81.5 1691.25,-81.5\"/>\n",
       "<text text-anchor=\"middle\" x=\"1701.12\" y=\"-94.2\" font-family=\"Times New Roman,serif\" font-size=\"14.00\"> </text>\n",
       "<polyline fill=\"none\" stroke=\"black\" points=\"1711,-81.75 1711,-117.5\"/>\n",
       "<text text-anchor=\"middle\" x=\"1751.25\" y=\"-94.2\" font-family=\"Times New Roman,serif\" font-size=\"14.00\">data 5.8284</text>\n",
       "<polyline fill=\"none\" stroke=\"black\" points=\"1791.5,-81.75 1791.5,-117.5\"/>\n",
       "<text text-anchor=\"middle\" x=\"1832.5\" y=\"-94.2\" font-family=\"Times New Roman,serif\" font-size=\"14.00\">grad 0.0429</text>\n",
       "</g>\n",
       "<!-- 3195859994960&#45;&gt;3195859996752+ -->\n",
       "<g id=\"edge15\" class=\"edge\">\n",
       "<title>3195859994960&#45;&gt;3195859996752+</title>\n",
       "<path fill=\"none\" stroke=\"black\" d=\"M1873.62,-115.28C1883.22,-116.96 1892.54,-118.59 1900.96,-120.07\"/>\n",
       "<polygon fill=\"black\" stroke=\"black\" points=\"1900.27,-123.5 1910.73,-121.77 1901.48,-116.6 1900.27,-123.5\"/>\n",
       "</g>\n",
       "<!-- 3195859994960&#45;&gt;3195870328976+ -->\n",
       "<g id=\"edge21\" class=\"edge\">\n",
       "<title>3195859994960&#45;&gt;3195870328976+</title>\n",
       "<path fill=\"none\" stroke=\"black\" d=\"M1873.62,-83.13C1883.22,-81.39 1892.54,-79.7 1900.96,-78.17\"/>\n",
       "<polygon fill=\"black\" stroke=\"black\" points=\"1901.51,-81.63 1910.73,-76.4 1900.26,-74.74 1901.51,-81.63\"/>\n",
       "</g>\n",
       "<!-- 3195859994960exp&#45;&gt;3195859994960 -->\n",
       "<g id=\"edge8\" class=\"edge\">\n",
       "<title>3195859994960exp&#45;&gt;3195859994960</title>\n",
       "<path fill=\"none\" stroke=\"black\" d=\"M1653.19,-99.5C1660.92,-99.5 1669.88,-99.5 1679.41,-99.5\"/>\n",
       "<polygon fill=\"black\" stroke=\"black\" points=\"1679.3,-103 1689.3,-99.5 1679.3,-96 1679.3,-103\"/>\n",
       "</g>\n",
       "<!-- 3195836720464 -->\n",
       "<g id=\"node24\" class=\"node\">\n",
       "<title>3195836720464</title>\n",
       "<polygon fill=\"none\" stroke=\"black\" points=\"1689,-26.5 1689,-62.5 1875.75,-62.5 1875.75,-26.5 1689,-26.5\"/>\n",
       "<text text-anchor=\"middle\" x=\"1698.88\" y=\"-39.2\" font-family=\"Times New Roman,serif\" font-size=\"14.00\"> </text>\n",
       "<polyline fill=\"none\" stroke=\"black\" points=\"1708.75,-26.75 1708.75,-62.5\"/>\n",
       "<text text-anchor=\"middle\" x=\"1749\" y=\"-39.2\" font-family=\"Times New Roman,serif\" font-size=\"14.00\">data 1.0000</text>\n",
       "<polyline fill=\"none\" stroke=\"black\" points=\"1789.25,-26.75 1789.25,-62.5\"/>\n",
       "<text text-anchor=\"middle\" x=\"1832.5\" y=\"-39.2\" font-family=\"Times New Roman,serif\" font-size=\"14.00\">grad &#45;0.1036</text>\n",
       "</g>\n",
       "<!-- 3195836720464&#45;&gt;3195870328976+ -->\n",
       "<g id=\"edge14\" class=\"edge\">\n",
       "<title>3195836720464&#45;&gt;3195870328976+</title>\n",
       "<path fill=\"none\" stroke=\"black\" d=\"M1875.85,-60.67C1884.72,-62.22 1893.31,-63.73 1901.12,-65.09\"/>\n",
       "<polygon fill=\"black\" stroke=\"black\" points=\"1900.38,-68.52 1910.83,-66.79 1901.58,-61.62 1900.38,-68.52\"/>\n",
       "</g>\n",
       "<!-- 3195870326160 -->\n",
       "<g id=\"node25\" class=\"node\">\n",
       "<title>3195870326160</title>\n",
       "<polygon fill=\"none\" stroke=\"black\" points=\"1069.5,-109.5 1069.5,-145.5 1254.75,-145.5 1254.75,-109.5 1069.5,-109.5\"/>\n",
       "<text text-anchor=\"middle\" x=\"1080.88\" y=\"-122.2\" font-family=\"Times New Roman,serif\" font-size=\"14.00\">n</text>\n",
       "<polyline fill=\"none\" stroke=\"black\" points=\"1092.25,-109.75 1092.25,-145.5\"/>\n",
       "<text text-anchor=\"middle\" x=\"1132.5\" y=\"-122.2\" font-family=\"Times New Roman,serif\" font-size=\"14.00\">data 0.8814</text>\n",
       "<polyline fill=\"none\" stroke=\"black\" points=\"1172.75,-109.75 1172.75,-145.5\"/>\n",
       "<text text-anchor=\"middle\" x=\"1213.75\" y=\"-122.2\" font-family=\"Times New Roman,serif\" font-size=\"14.00\">grad 0.5000</text>\n",
       "</g>\n",
       "<!-- 3195870326160&#45;&gt;3195871953168* -->\n",
       "<g id=\"edge24\" class=\"edge\">\n",
       "<title>3195870326160&#45;&gt;3195871953168*</title>\n",
       "<path fill=\"none\" stroke=\"black\" d=\"M1255.15,-110.73C1263.89,-109.13 1272.36,-107.59 1280.08,-106.18\"/>\n",
       "<polygon fill=\"black\" stroke=\"black\" points=\"1280.45,-109.67 1289.66,-104.44 1279.19,-102.79 1280.45,-109.67\"/>\n",
       "</g>\n",
       "<!-- 3195870326160+&#45;&gt;3195870326160 -->\n",
       "<g id=\"edge9\" class=\"edge\">\n",
       "<title>3195870326160+&#45;&gt;3195870326160</title>\n",
       "<path fill=\"none\" stroke=\"black\" d=\"M1033.91,-127.5C1040.95,-127.5 1049,-127.5 1057.55,-127.5\"/>\n",
       "<polygon fill=\"black\" stroke=\"black\" points=\"1057.54,-131 1067.54,-127.5 1057.54,-124 1057.54,-131\"/>\n",
       "</g>\n",
       "<!-- 3195860157904 -->\n",
       "<g id=\"node27\" class=\"node\">\n",
       "<title>3195860157904</title>\n",
       "<polygon fill=\"none\" stroke=\"black\" points=\"2442.75,-57.5 2442.75,-93.5 2625,-93.5 2625,-57.5 2442.75,-57.5\"/>\n",
       "<text text-anchor=\"middle\" x=\"2452.62\" y=\"-70.2\" font-family=\"Times New Roman,serif\" font-size=\"14.00\"> </text>\n",
       "<polyline fill=\"none\" stroke=\"black\" points=\"2462.5,-57.75 2462.5,-93.5\"/>\n",
       "<text text-anchor=\"middle\" x=\"2502.75\" y=\"-70.2\" font-family=\"Times New Roman,serif\" font-size=\"14.00\">data 0.1464</text>\n",
       "<polyline fill=\"none\" stroke=\"black\" points=\"2543,-57.75 2543,-93.5\"/>\n",
       "<text text-anchor=\"middle\" x=\"2584\" y=\"-70.2\" font-family=\"Times New Roman,serif\" font-size=\"14.00\">grad 4.8284</text>\n",
       "</g>\n",
       "<!-- 3195860157904&#45;&gt;3195870323280* -->\n",
       "<g id=\"edge20\" class=\"edge\">\n",
       "<title>3195860157904&#45;&gt;3195870323280*</title>\n",
       "<path fill=\"none\" stroke=\"black\" d=\"M2625.12,-89.15C2633.88,-90.47 2642.37,-91.75 2650.12,-92.92\"/>\n",
       "<polygon fill=\"black\" stroke=\"black\" points=\"2649.33,-96.34 2659.74,-94.38 2650.38,-89.42 2649.33,-96.34\"/>\n",
       "</g>\n",
       "<!-- 3195860157904**&#45;1&#45;&gt;3195860157904 -->\n",
       "<g id=\"edge10\" class=\"edge\">\n",
       "<title>3195860157904**&#45;1&#45;&gt;3195860157904</title>\n",
       "<path fill=\"none\" stroke=\"black\" d=\"M2343.14,-71.99C2365.34,-72.4 2398.5,-73.01 2430.92,-73.61\"/>\n",
       "<polygon fill=\"black\" stroke=\"black\" points=\"2430.76,-77.11 2440.83,-73.8 2430.89,-70.11 2430.76,-77.11\"/>\n",
       "</g>\n",
       "</g>\n",
       "</svg>\n"
      ],
      "text/plain": [
       "<graphviz.graphs.Digraph at 0x2e81824d690>"
      ]
     },
     "execution_count": 240,
     "metadata": {},
     "output_type": "execute_result"
    }
   ],
   "source": [
    "# inputs x1, x2\n",
    "x1 = Value(2.0, label=\"x1\")\n",
    "x2 = Value(0.0, label=\"x2\")\n",
    "# weights w1, w2 (like strength of synaptic connections in brain)\n",
    "w1 = Value(-3.0, label=\"w1\")\n",
    "w2 = Value(1.0, label=\"w2\")\n",
    "# bias of the neural network\n",
    "b = Value(6.8813735870195432, label=\"b\")\n",
    "\n",
    "# x1*w1 + x2*w2 + b\n",
    "x1w1 = x1 * w1; x1w1.label = \"x1*w1\"\n",
    "x2w2 = x2 * w2; x2w2.label = \"x2*w2\"\n",
    "x1w1x2w2 = x1w1 + x2w2; x1w1x2w2.label = \"x1*w1 + x2*w2\"\n",
    "n = x1w1x2w2 + b; n.label = \"n\"\n",
    "# -- Break tanh into its component operations - tanh = e^2x -1 / e^2x + 1\n",
    "e = (2*n).exp()\n",
    "o = (e - 1) / (e + 1) # e - 1 can be written as e + (-1)\n",
    "# --------\n",
    "o.label = \"o\"\n",
    "o.backward()\n",
    "draw_dot(o)"
   ]
  },
  {
   "cell_type": "markdown",
   "metadata": {},
   "source": [
    "### Using Pytorch Tensors\n",
    "- Now we will use pytorch tensors for the above example.\n",
    "- In pytorch everything is based on tensors.\n",
    "- Tensors are n-dimensional arrays of scalars."
   ]
  },
  {
   "cell_type": "code",
   "execution_count": 171,
   "metadata": {},
   "outputs": [],
   "source": [
    "import torch"
   ]
  },
  {
   "cell_type": "code",
   "execution_count": 172,
   "metadata": {},
   "outputs": [
    {
     "name": "stdout",
     "output_type": "stream",
     "text": [
      "0.7071066904050358\n",
      "----\n",
      "x2 0.5000001283844369\n",
      "w2 0.0\n",
      "x1 -1.5000003851533106\n",
      "w1 1.0000002567688737\n"
     ]
    }
   ],
   "source": [
    "# We use double because its the default type in python\n",
    "x1 = torch.Tensor([2.0]).double()               ; x1.requires_grad = True # by default it is False for leaf nodes for efficiency\n",
    "x2 = torch.Tensor([0.0]).double()               ; x2.requires_grad = True\n",
    "w1 = torch.Tensor([-3.0]).double()              ; w1.requires_grad = True\n",
    "w2 = torch.Tensor([1.0]).double()               ; w2.requires_grad = True\n",
    "b = torch.Tensor([6.8813735870195432]).double() ; b.requires_grad = True\n",
    "n = x1*w1 + x2*w2 + b\n",
    "o = torch.tanh(n)\n",
    "\n",
    "print(o.data.item())\n",
    "o.backward()\n",
    "\n",
    "print(\"----\")\n",
    "print('x2', x2.grad.item())\n",
    "print('w2', w2.grad.item())\n",
    "print('x1', x1.grad.item())\n",
    "print('w1', w1.grad.item())"
   ]
  },
  {
   "cell_type": "markdown",
   "metadata": {},
   "source": [
    "### Building a Neural Network (Multilayer Perceptron)"
   ]
  },
  {
   "cell_type": "code",
   "execution_count": 206,
   "metadata": {},
   "outputs": [],
   "source": [
    "class Neuron:\n",
    "    def __init__(self, nin): # nin - The inputs for the neural net (x1, x2, ....) \n",
    "        # define random weights\n",
    "        self.w = [Value(random.uniform(-1, 1)) for _ in range(nin)]\n",
    "        self.b = Value(random.uniform(-1, 1))\n",
    "\n",
    "    def __call__(self, x): # When calling the object\n",
    "        # w * x + b\n",
    "        # for calculating activation\n",
    "        act = sum((xi * wi   for wi, xi in zip(self.w, x)), self.b) \n",
    "        out = act.tanh() # pass the output through activation function which here is tanh\n",
    "        return out\n",
    "    \n",
    "    def parameters(self):\n",
    "        # Returns the parameters of a neuron\n",
    "        return self.w + [self.b]\n",
    "\n",
    "\n",
    "class Layer:\n",
    "    # A layer contains a number of neurons\n",
    "    def __init__(self, nin, nout):\n",
    "        \"\"\"\n",
    "        nin - input for each neuron\n",
    "        nout - number of neurons in a layer\n",
    "        For the given number of neurons we will create a layer\n",
    "        \"\"\"\n",
    "        self.neurons = [Neuron(nin) for _ in range(nout)] # list of neurons\n",
    "        \n",
    "    def __call__(self, x):\n",
    "        \"\"\"\n",
    "        x - List of inputs to a neuron\n",
    "        will return a list of neurons (layer)\n",
    "        \"\"\"\n",
    "        outs = [n(x) for n in self.neurons]\n",
    "        return outs[0] if len(outs) == 1 else outs\n",
    "    \n",
    "    def parameters(self):\n",
    "        return [ p for neuron in self.neurons for p in neuron.parameters()]\n",
    "            \n",
    "        \n",
    "class MLP:\n",
    "    def __init__(self, nin, nouts):\n",
    "        \"\"\"\n",
    "        nin - Number of layers\n",
    "        nouts - a list of number of neurons in each layer\n",
    "        Ex:\n",
    "        MLP(3, [4, 4, 1]) - This initializes a Multilayer neural network\n",
    "        which contains 3 layers, 2 layers of 4 neurons  and 1 layer of 1 output neuron\n",
    "        \"\"\"\n",
    "        sz = [nin] + nouts\n",
    "        self.layers = [Layer(sz[i], sz[i+1]) for i in range(len(nouts))]\n",
    "    \n",
    "    def __call__(self, x):\n",
    "        for layer in self.layers:\n",
    "            x = layer(x)\n",
    "        return x\n",
    "\n",
    "    def parameters(self):\n",
    "        return [p for layer in self.layers for p in layer.parameters()]"
   ]
  },
  {
   "cell_type": "code",
   "execution_count": 231,
   "metadata": {},
   "outputs": [
    {
     "data": {
      "text/plain": [
       "Value(data=0.7924310171666363)"
      ]
     },
     "execution_count": 231,
     "metadata": {},
     "output_type": "execute_result"
    }
   ],
   "source": [
    "x = [2.0, 3.0, -1.0] # 3 inputs\n",
    "# n = Neuron(2) # Initialize the Neuron with the number of inputs\n",
    "# n(x) # Then call it with inputs\n",
    "n = MLP(3, [4, 4, 1])\n",
    "n(x)"
   ]
  },
  {
   "cell_type": "code",
   "execution_count": 209,
   "metadata": {},
   "outputs": [
    {
     "data": {
      "text/plain": [
       "41"
      ]
     },
     "execution_count": 209,
     "metadata": {},
     "output_type": "execute_result"
    }
   ],
   "source": [
    "len(n.parameters())"
   ]
  },
  {
   "cell_type": "code",
   "execution_count": 232,
   "metadata": {},
   "outputs": [],
   "source": [
    "# Example\n",
    "xs = [\n",
    "    [2.0, 3.0, -1.0],\n",
    "    [3.0, -1.0, 0.5],\n",
    "    [0.5, 1.0, 1.0],\n",
    "    [1.0, 1.0, -1.0]\n",
    "] # inputs\n",
    "ys = [1.0, -1.0, -1.0, 1.0] # desired targets (labels)"
   ]
  },
  {
   "cell_type": "code",
   "execution_count": 237,
   "metadata": {},
   "outputs": [
    {
     "name": "stdout",
     "output_type": "stream",
     "text": [
      "0 0.01837033375815207\n",
      "1 0.017889373432555748\n",
      "2 0.017432316154912735\n",
      "3 0.016997441671412664\n",
      "4 0.01658318995194673\n",
      "5 0.016188143033237977\n",
      "6 0.01581100926952078\n",
      "7 0.015450609627150806\n",
      "8 0.015105865720865119\n",
      "9 0.014775789339364142\n",
      "10 0.014459473248753733\n",
      "11 0.014156083095961114\n",
      "12 0.013864850261943897\n",
      "13 0.013585065537459086\n",
      "14 0.013316073513241036\n",
      "15 0.013057267592364363\n",
      "16 0.012808085545905342\n",
      "17 0.012568005544226164\n",
      "18 0.01233654260565634\n",
      "19 0.012113245412339588\n"
     ]
    }
   ],
   "source": [
    "# Put it all together\n",
    "for k in range(20):\n",
    "\n",
    "    # forward pass - calculate loss\n",
    "    ypred = [n(x) for x in xs]\n",
    "    loss = sum((yout - ygt)**2 for ygt, yout in zip(ys, ypred)) # using  mean squared error\n",
    "\n",
    "    # Before doing backward pass, we need to reset the gradients of the parameters to zero so \n",
    "    # they can be calculated again wrt to the loss\n",
    "    for p in n.parameters():\n",
    "        p.grad = 0.0\n",
    "    # backward pass - or backpropagation\n",
    "    loss.backward()\n",
    "\n",
    "    # update the parameters by a small step to minimize the loss\n",
    "    for p in n.parameters():\n",
    "        p.data += -0.1 * p.grad # The -ve sign is because we want to minimize the loss so we point the value in the opposite direction\n",
    "\n",
    "    print(k, loss.data)"
   ]
  },
  {
   "cell_type": "code",
   "execution_count": 238,
   "metadata": {},
   "outputs": [
    {
     "data": {
      "text/plain": [
       "[Value(data=0.942799021840657),\n",
       " Value(data=-0.9390547191528597),\n",
       " Value(data=-0.94251206572938),\n",
       " Value(data=0.95731389376256)]"
      ]
     },
     "execution_count": 238,
     "metadata": {},
     "output_type": "execute_result"
    }
   ],
   "source": [
    "ypred"
   ]
  },
  {
   "cell_type": "code",
   "execution_count": 211,
   "metadata": {},
   "outputs": [
    {
     "data": {
      "text/plain": [
       "Value(data=4.002776709437022)"
      ]
     },
     "execution_count": 211,
     "metadata": {},
     "output_type": "execute_result"
    }
   ],
   "source": [
    "# Calculate the loss - difference between the desired output and the predicted output\n",
    "# This is done using Mean Squared error\n",
    "ypred = [n(x) for x in xs]\n",
    "loss = sum((yout + -(ygt))**2 for ygt, yout in zip(ys, ypred))\n",
    "loss"
   ]
  },
  {
   "cell_type": "code",
   "execution_count": 220,
   "metadata": {},
   "outputs": [],
   "source": [
    "loss.backward()"
   ]
  },
  {
   "cell_type": "code",
   "execution_count": 217,
   "metadata": {},
   "outputs": [
    {
     "data": {
      "text/plain": [
       "0.15504942042911415"
      ]
     },
     "execution_count": 217,
     "metadata": {},
     "output_type": "execute_result"
    }
   ],
   "source": [
    "n.layers[0].neurons[0].w[0].grad"
   ]
  },
  {
   "cell_type": "code",
   "execution_count": 216,
   "metadata": {},
   "outputs": [
    {
     "data": {
      "text/plain": [
       "0.3757774777985637"
      ]
     },
     "execution_count": 216,
     "metadata": {},
     "output_type": "execute_result"
    }
   ],
   "source": [
    "n.layers[0].neurons[0].w[0].data"
   ]
  },
  {
   "cell_type": "markdown",
   "metadata": {},
   "source": [
    "### Gradient Descent\n",
    "- In gradient descent we can think of the gradient as a vector pointing in a direction of increased loss.\n",
    "- So we modify the data by a small step size in the direction of the gradient."
   ]
  },
  {
   "cell_type": "code",
   "execution_count": 221,
   "metadata": {},
   "outputs": [],
   "source": [
    "# Iterate over all the parameters and modify them by a small step size\n",
    "for p in n.parameters():\n",
    "    p.data += -0.01 * p.grad # The -ve sign is because we want to minimize the loss so we point the value in the opposite direction"
   ]
  },
  {
   "cell_type": "markdown",
   "metadata": {},
   "source": [
    "### Back propagation using the _backward function"
   ]
  },
  {
   "cell_type": "code",
   "execution_count": 124,
   "metadata": {},
   "outputs": [],
   "source": [
    "o.grad = 1.0"
   ]
  },
  {
   "cell_type": "code",
   "execution_count": 125,
   "metadata": {},
   "outputs": [],
   "source": [
    "o._backward() # backprop for n"
   ]
  },
  {
   "cell_type": "code",
   "execution_count": 126,
   "metadata": {},
   "outputs": [],
   "source": [
    "n._backward() # backprop for b and x1w1x2w2"
   ]
  },
  {
   "cell_type": "code",
   "execution_count": 127,
   "metadata": {},
   "outputs": [],
   "source": [
    "b._backward() # as there is no backward, nothing will happen"
   ]
  },
  {
   "cell_type": "code",
   "execution_count": 128,
   "metadata": {},
   "outputs": [],
   "source": [
    "x1w1x2w2._backward()"
   ]
  },
  {
   "cell_type": "code",
   "execution_count": 132,
   "metadata": {},
   "outputs": [],
   "source": [
    "x1w1._backward()\n",
    "x2w2._backward()\n"
   ]
  },
  {
   "cell_type": "markdown",
   "metadata": {},
   "source": [
    "### Manual Backprop calculation for a Neuron"
   ]
  },
  {
   "cell_type": "code",
   "execution_count": 97,
   "metadata": {},
   "outputs": [],
   "source": [
    "# derivative of o wrt o do/do = 1\n",
    "o.grad = 1.0"
   ]
  },
  {
   "cell_type": "code",
   "execution_count": 83,
   "metadata": {},
   "outputs": [],
   "source": [
    "# derivative of o wrt n - do/dn\n",
    "# o = tanh(n)\n",
    "# do/dn = 1 - tanh(n)**2 - see derivative of tanh(x) from wikipedia\n",
    "# do/dn = 1 - o**2 = 1 - 0.7071**2 = 0.5\n",
    "# 1 - o.data**2\n",
    "n.grad = 0.5"
   ]
  },
  {
   "cell_type": "code",
   "execution_count": 84,
   "metadata": {},
   "outputs": [],
   "source": [
    "# since the local gradients for \"+\" is 1 - the gradient for the leaf nodes will be the same\n",
    "x1w1x2w2.grad = 0.5\n",
    "b.grad = 0.5"
   ]
  },
  {
   "cell_type": "code",
   "execution_count": 85,
   "metadata": {},
   "outputs": [],
   "source": [
    "# following the same rule\n",
    "x1w1.grad = 0.5\n",
    "x2w2.grad = 0.5"
   ]
  },
  {
   "cell_type": "code",
   "execution_count": 87,
   "metadata": {},
   "outputs": [],
   "source": [
    "# do/dx2 = do/dx2w2 * dx2w2/dx2\n",
    "x2.grad = x2w2.grad * w2.data\n",
    "\n",
    "# do/dw2 = do/dx2w2 * dx2w2/dw2\n",
    "w2.grad = x2w2.grad * x2.data"
   ]
  },
  {
   "cell_type": "code",
   "execution_count": 89,
   "metadata": {},
   "outputs": [],
   "source": [
    "# do/dx1 = do/dx1w1 * dx1w1/dx1\n",
    "x1.grad = x1w1.grad * w1.data\n",
    "\n",
    "# do/dw2 = do/dx1w1 * dx1w1/dw1\n",
    "w1.grad = x1w1.grad * x1.data"
   ]
  }
 ],
 "metadata": {
  "kernelspec": {
   "display_name": "genai_env",
   "language": "python",
   "name": "python3"
  },
  "language_info": {
   "codemirror_mode": {
    "name": "ipython",
    "version": 3
   },
   "file_extension": ".py",
   "mimetype": "text/x-python",
   "name": "python",
   "nbconvert_exporter": "python",
   "pygments_lexer": "ipython3",
   "version": "3.11.4"
  }
 },
 "nbformat": 4,
 "nbformat_minor": 2
}
