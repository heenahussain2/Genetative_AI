{
 "cells": [
  {
   "cell_type": "markdown",
   "id": "1bfb571e",
   "metadata": {},
   "source": [
    "## Ex 4:"
   ]
  }
 ],
 "metadata": {
  "language_info": {
   "name": "python"
  }
 },
 "nbformat": 4,
 "nbformat_minor": 5
}
