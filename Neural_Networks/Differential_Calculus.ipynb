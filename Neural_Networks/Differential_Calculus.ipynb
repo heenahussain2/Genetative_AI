{
 "cells": [
  {
   "cell_type": "markdown",
   "metadata": {},
   "source": [
    "## Calculus"
   ]
  },
  {
   "cell_type": "markdown",
   "metadata": {},
   "source": [
    "### Differential Calculus\n",
    "- Instantaneous rate of change or the change at any given moment.\n",
    "- **Slope** - It describes the rate of change of a vertical variable wrt the horizontal variable.\n",
    "- The average rate of change between 2 points is the same as the slope of a secant line in comparison to the curve of that interval.\n",
    "- A **secant line**, also simply called a secant, is a line passing through 2 points of a curve. See https://mathworld.wolfram.com/SecantLine.html\n",
    "- As one point on this line approaches another, it gives the instantaneous slope of the tangent line to f(x) at each point x. This is known as the derivative of f(x). "
   ]
  },
  {
   "cell_type": "markdown",
   "metadata": {},
   "source": [
    "| x  | y=1/10 - x |\n",
    "|----|------------|      \n",
    "| 5  |      1/5   |\n",
    "| 8  |      1/2   |\n",
    "\n",
    "We represent this as  \n",
    "(change in y) / (change in x) or (x1 - x2) / (y1- y2)  or rise/run\n",
    "\n",
    "\n",
    "(1/2 - 1/5) / 3  \n",
    "(3/10) / 3  \n",
    "\n",
    "15/2"
   ]
  },
  {
   "cell_type": "markdown",
   "metadata": {},
   "source": [
    "#### Derivative as Slope of a curve\n",
    "- We can also refer to Derivative as \n",
    "    - rate of change.\n",
    "    - steepness of a curve.\n",
    "    - Slope of a curve.\n",
    "    - The slope of a tangent line of a curve.\n",
    "\n",
    "#### Derivative and Tangent line equations\n",
    "y = m*x + b  \n",
    "\n",
    "Ex - (-4, 7) , m = 1  \n",
    "y = x + b  \n",
    "7 = -4 + b  \n",
    "11 = b  \n",
    "y = x + 11  \n",
    "y = x + (7 + 4)  \n",
    "y - 7 = 1 (x + 4)  \n",
    "\n",
    "Ex - (-1, 3), m = -2  \n",
    "y = -2x + b  \n",
    "3 = 2 + b  \n",
    "1 = b  \n",
    "Eq of tangent line  \n",
    "y = -2x + 1  \n",
    "y = -2 x + 3 - 2  \n",
    "y - 3 = -2 (x + 1)  \n",
    "\n"
   ]
  },
  {
   "cell_type": "markdown",
   "metadata": {},
   "source": [
    "#### Derivative as a limit\n",
    "formula   \n",
    "$$\n",
    "Derivative =\\text{Slope of a secant line} = \\lim_{h \\to 0}{\\frac{f(x + h) - f(x)}{h} = \\frac{\\Delta{y}}{\\Delta{x}}}\n",
    "$$\n",
    "\n",
    " - Slope is always calculated as $\\frac{\\Delta{y}}{\\Delta{x}}$\n",
    " - As h -> 0, the slope of the secant line approximates the slope of the tangent line (which is the definition of the derivative)"
   ]
  },
  {
   "cell_type": "markdown",
   "metadata": {},
   "source": [
    "f(x) = 1/x  \n",
    "f(x+h) = 1/x + h \n",
    "\n",
    "As per the derivative formula  \n",
    "\n",
    "f'(x) = (1/(x + h) - 1/x) / h  \n",
    "f'(1) = (1/(1 + h) - 1) / h \n"
   ]
  },
  {
   "cell_type": "markdown",
   "metadata": {},
   "source": [
    "Ex - Finding the equation of the line tangent to $ f(x) = x^2 + 3 $ at $x=-5$  \n",
    "ans -   \n",
    "$\\lim_{h \\to 0}{\\frac{f(x+h) - f(x)}{h}}$ \n",
    " "
   ]
  },
  {
   "cell_type": "markdown",
   "metadata": {},
   "source": [
    "### Differentiability at a point\n",
    "- A fancy way of saying, does the function have a defined derivative at a point\n",
    "- If a function f is differentiable at x = c, then f is continuous at x=c. The other way around is not always true.\n",
    "- If f is not continuous at x=c, then f is not differentiable at x=c.\n",
    "- The points that are not differentiable are the points with\n",
    "    1. Vertical Tangent\n",
    "    2. Not continuous\n",
    "    3. A sharp turn or a sharp point.\n",
    "    4. An asymptote"
   ]
  },
  {
   "cell_type": "markdown",
   "metadata": {},
   "source": [
    "### Applying the Power Rule\n",
    "- The power rule tells us how to find the derivative of any expression in the form $x^n$\n",
    "- The power rule says that if we have a function $f(x) = x^n$, then the derivative of that function will be\n",
    "$$\n",
    "f'(x) = n * x^{n-1}\n",
    "$$\n",
    "$$\n",
    "\\text{or}\n",
    "$$\n",
    "$$\n",
    "\\frac{\\delta}{\\delta{x}} [x^n] = n x^{n-1} , n \\not= 0\n",
    "$$\n",
    "\n",
    "ex: if $f(x) = x^2$ then     \n",
    "$f'(x) = 2x$"
   ]
  },
  {
   "cell_type": "markdown",
   "metadata": {},
   "source": [
    "### Basic Derivative Rules\n",
    "$$\n",
    "\\frac{\\delta}{\\delta{x}} [x^n] = n x^{n-1} , n \\not= 0\n",
    "$$ \n",
    "$$\n",
    "\\frac{\\delta}{\\delta{x}} [x^0] = \\frac{\\delta}{\\delta{x}} [1] = 0 , x \\not= 0\n",
    "$$\n",
    "$$\n",
    "\\frac{\\delta}{\\delta{x}} [A] = 0, \\text{where A is a constant}\n",
    "$$\n",
    "$$\n",
    "\\frac{\\delta}{\\delta{x}} [A f(x)] = A \\frac{\\delta}{\\delta{x}} [f(x)] = A f'(x)\n",
    "$$\n",
    "$$\n",
    "\\frac{\\delta}{\\delta{x}} [f(x) + g(x)] = \\frac{\\delta}{\\delta{x}} [f(x)] +  \\frac{\\delta}{\\delta{x}} [g(x)] = f'(x) + g'(x)\n",
    "$$\n",
    "\n",
    "#### Further Reading\n",
    "- Proof - https://khanacademy.org/math/ap-calculus-ab/ab-differentiation-1-new/ab-2-6a/a/justifying-the-basic-derivative-rules\n",
    "- Overview - https://www.khanacademy.org/math/ap-calculus-ab/ab-differentiation-2-new/ab-3-1b/a/differentiation-rules-review"
   ]
  },
  {
   "cell_type": "markdown",
   "metadata": {},
   "source": [
    "### Derivatives of sin(x), cos(x), $e^x$ and $ln(x)$\n",
    "$$\n",
    "\\frac{\\delta}{\\delta{x}} [\\sin{x}] = \\cos{x} \n",
    "$$\n",
    "$$\n",
    "\\frac{\\delta}{\\delta{x}} [\\cos{x}] = -\\sin{x} \n",
    "$$\n",
    "$$\n",
    "\\frac{\\delta}{\\delta{x}} [e^x] = e^x \n",
    "$$\n",
    "$$\n",
    "\\frac{\\delta}{\\delta{x}} [ln(x)] = \\frac{1}{x} \n",
    "$$\n"
   ]
  },
  {
   "cell_type": "markdown",
   "metadata": {},
   "source": [
    "### Product Rule\n",
    "$$\n",
    "\\frac{\\delta}{\\delta{x}} [f(x)*g(x)] = f'(x) * g(x) + f(x) * g'(x) \n",
    "$$\n",
    "$$\n",
    "\\text{OR}\n",
    "$$\n",
    "$$\n",
    "\\frac{\\delta}{\\delta{x}} [f(x)*g(x)] = \\frac{\\delta}{\\delta{x}} [f(x)] * g(x) + f(x) * \\frac{\\delta}{\\delta{x}} [g(x)]\n",
    "$$\n",
    "https://www.khanacademy.org/math/ap-calculus-ab/ab-differentiation-1-new/ab-2-8/a/product-rule-review"
   ]
  },
  {
   "cell_type": "markdown",
   "metadata": {},
   "source": [
    "### Quotient Rule\n",
    "$$\n",
    "\\frac{\\delta}{\\delta{x}} [\\frac{f(x)}{g(x)}] = \\frac{f'(x) * g(x) - f(x) * g'(x)}{[g(x)]^2}\n",
    "$$\n",
    "\n",
    "https://www.khanacademy.org/math/ap-calculus-ab/ab-differentiation-1-new/ab-2-9/a/quotient-rule-review"
   ]
  },
  {
   "cell_type": "markdown",
   "metadata": {},
   "source": [
    "### Derivatives of tan(x), cot(x), sec(x) and csc(x)\n",
    "$$\n",
    "\\frac{\\delta}{\\delta{x}} [\\tan{x}] = \\frac{\\delta}{\\delta{x}} [\\frac{\\sin{x}}{\\cos{x}}] = \\frac{1}{\\cos^2{x}} = \\sec^2{x}\n",
    "$$\n",
    "$$\n",
    "\\frac{\\delta}{\\delta{x}} [\\cot{x}] = \\frac{\\delta}{\\delta{x}} [\\frac{\\cos{x}}{\\sin{x}}] = \\frac{-1}{\\sin^2{x}} = -\\csc^2{x} \n",
    "$$\n",
    "$$\n",
    "\\frac{\\delta}{\\delta{x}} [\\sec{x}] = \\frac{\\delta}{\\delta{x}} [\\frac{1}{\\cos{x}}] = \\frac{\\sin{x}}{\\cos^2{x}} = \\tan{x} * \\sec{x}\n",
    "$$\n",
    "$$\n",
    "\\frac{\\delta}{\\delta{x}} [\\csc{x}] = \\frac{\\delta}{\\delta{x}} [\\frac{1}{\\sin{x}}] = \\frac{-\\cos{x}}{\\sin^2{x}} = - \\cot{x} * \\csc{x} \n",
    "$$\n"
   ]
  },
  {
   "cell_type": "markdown",
   "metadata": {},
   "source": [
    "### Chain Rule\n",
    "$$\n",
    "\\frac{\\delta}{\\delta{x}} [f(g(x))] = f'(g(x)) * g'(x)\n",
    "$$\n",
    "$$\n",
    "\\text{OR}\n",
    "$$\n",
    "$$\n",
    "f'(x) = \\frac{\\delta{v}}{\\delta{u}} * \\frac{\\delta{u}}{\\delta{x}} \n",
    "$$\n",
    "\n",
    "#### Further Reading\n",
    "- Overview https://www.khanacademy.org/math/ap-calculus-ab/ab-differentiation-2-new/ab-3-1a/a/chain-rule-review\n",
    "- Proof - https://www.khanacademy.org/math/ap-calculus-ab/ab-differentiation-2-new/ab-3-1b/a/proving-the-chain-rule"
   ]
  },
  {
   "cell_type": "markdown",
   "metadata": {},
   "source": [
    "### Derivative of $a^x$ (for any positive base a)\n",
    "$$\n",
    "\\frac{\\delta}{\\delta{x}} [a^x] = \\frac{\\delta}{\\delta{x}}[(e^{\\ln a})^x] = \\frac{\\delta}{\\delta{x}}[e^{(\\ln a)x}] = e^{(\\ln a)x} * \\ln a = (\\ln a) (e^{ln a})^x = (\\ln a) a^x\n",
    "$$\n",
    "\n",
    "### Derivative of $log_a x$ (for any positive base $a \\not = 1$)\n",
    "$$\n",
    "log_a b = \\frac{log_c b}{log_c a} \n",
    "$$\n",
    "$$\n",
    "\\ln {x} = log_e x \n",
    "$$\n",
    "Example - \n",
    "$log_3 8 = \\frac{log_{10} 8}{log_{10} 3} = \\frac{ln 8}{ln 3} $\n",
    "$$\n",
    "\\frac{\\delta}{\\delta{x}} [log_a x] = \\frac{\\delta}{\\delta{x}} [\\frac{1}{\\ln a} * \\ln x] = \\frac{1}{\\ln a} * (\\frac{\\delta}{\\delta{x}} [\\ln x]) = \\frac{1}{(\\ln a)x} \n",
    "$$"
   ]
  },
  {
   "cell_type": "markdown",
   "metadata": {},
   "source": [
    "### Implicit Differentiation\n",
    "In implicit differentiation, we differentiate each side of an equation with two variables (usually x and y) by treating one of the variables as a function of the other. This calls for using the chain rule.\n",
    "\n",
    "https://www.khanacademy.org/math/ap-calculus-ab/ab-differentiation-2-new/ab-3-2/a/implicit-differentiation-review"
   ]
  },
  {
   "cell_type": "markdown",
   "metadata": {},
   "source": [
    "### Derivative of Inverse Functions\n",
    "$$\n",
    "f'(x) = \\frac{1}{g'(f(x))}\n",
    "$$"
   ]
  },
  {
   "cell_type": "markdown",
   "metadata": {},
   "source": [
    "### Derivative of Inverse Trigonometric Functions\n",
    "https://www.khanacademy.org/math/ap-calculus-ab/ab-differentiation-2-new/ab-3-4/a/differentiating-inverse-trig-functions-review\n",
    "\n",
    "#### Derivative of Inverse sine\n",
    "$$\n",
    "y = sin^{-1} x\n",
    "$$\n",
    "$$\n",
    "\\frac{\\delta{y}}{\\delta{x}} = \\frac{1}{\\sqrt{1-x^2}}\n",
    "$$\n",
    "$$\n",
    "OR\n",
    "$$\n",
    "$$\n",
    "\\frac{\\delta}{\\delta{x}}[sin^{-1} x] = \\frac{1}{\\sqrt{1-x^2}}\n",
    "$$\n",
    "\n",
    "For more details - https://www.khanacademy.org/math/ap-calculus-ab/ab-differentiation-2-new/ab-3-4/v/derivative-inverse-sine "
   ]
  },
  {
   "cell_type": "markdown",
   "metadata": {},
   "source": [
    "#### Derivative of Inverse cosine\n",
    "$$\n",
    "y = cos^{-1} x\n",
    "$$\n",
    "$$\n",
    "\\frac{\\delta{y}}{\\delta{x}} = -\\frac{1}{\\sqrt{1-x^2}}\n",
    "$$\n",
    "$$\n",
    "OR\n",
    "$$\n",
    "$$\n",
    "\\frac{\\delta}{\\delta{x}}[cos^{-1} x] = -\\frac{1}{\\sqrt{1-x^2}}\n",
    "$$\n",
    "For more details - https://www.khanacademy.org/math/ap-calculus-ab/ab-differentiation-2-new/ab-3-4/v/derivative-inverse-cosine"
   ]
  },
  {
   "cell_type": "markdown",
   "metadata": {},
   "source": [
    "#### Derivative of Inverse tangent\n",
    "$$\n",
    "y = tan^{-1} x\n",
    "$$\n",
    "$$\n",
    "\\frac{\\delta{y}}{\\delta{x}} = \\frac{1}{1 + x^2}\n",
    "$$\n",
    "$$\n",
    "OR\n",
    "$$\n",
    "$$\n",
    "\\frac{\\delta}{\\delta{x}}[tan^{-1} x] = \\frac{1}{1 + x^2}\n",
    "$$\n",
    "For more details https://www.khanacademy.org/math/ap-calculus-ab/ab-differentiation-2-new/ab-3-4/v/derivative-inverse-tangent"
   ]
  },
  {
   "cell_type": "markdown",
   "metadata": {},
   "source": [
    "### Second Derivatives\n",
    "$$\n",
    "\\frac{\\delta^2{y}}{\\delta{x}^2} =  \\frac{\\delta}{\\delta{x}}[\\frac{\\delta}{\\delta{x}}[y]]\n",
    "$$\n",
    "$$\n",
    "\\text{OR}\n",
    "$$\n",
    "$$\n",
    "f''(x) = f'(f'(x))\n",
    "$$\n",
    "- Further Reading - https://www.khanacademy.org/math/ap-calculus-ab/ab-differentiation-2-new/ab-3-6/a/second-derivatives-review"
   ]
  },
  {
   "cell_type": "markdown",
   "metadata": {},
   "source": [
    "### Mean Value Theorem\n",
    "- let f be a continuous function over the closed interval [a, b]\n",
    "- It is also differentiable over the open interval (a, b)\n",
    "- The Mean Value Theorem tells us that if we take the average rate of change over the interval, that at some point the instantaneous rate of change will be the same as the average change.\n",
    "- Or The Mean Value Theorem tells us that at some point in the interval, the slope of the tangent line will be the same as the slope of the secant line.\n",
    "$$\n",
    "\\frac{\\Delta{y}}{\\Delta{x}} = \\frac{f(b) - f(a)}{b - a} = f'(c)\n",
    "$$\n",
    "$$\\text{where c } \\epsilon \\text(a, b)\n",
    "$$\n",
    "\n",
    "#### Further Reading\n",
    "- https://www.khanacademy.org/math/ap-calculus-ab/ab-diff-analytical-applications-new/ab-5-1/a/review-establishing-differentiability-for-mvt\n",
    "- https://www.khanacademy.org/math/ap-calculus-ab/ab-diff-analytical-applications-new/ab-5-1/a/mean-value-theorem-review"
   ]
  },
  {
   "cell_type": "markdown",
   "metadata": {},
   "source": [
    "### Extreme Value Theorem\n",
    "- The extreme value theorem says that if we have some function f that is continuous over a closed interval [a, b] then there will be an absolute maximum and an absolute minimum value for f.\n",
    "- That means there exists an absolute maximum value of f over interval [a, b] and absolute minimum value of f over the interval [a, b]\n",
    "\n",
    "### Critical Points\n",
    "- **Global maximum** - It is a point where the functions takes on the maximum value and will never have a value larger than this.\n",
    "- **Global minimum** - It is a point where the function takes on the minimum value. If the function extends to -ve or +ve infinity then there is no global minimum for that function.\n",
    "- **Local maximum** - A local maximum is a point where the value of the function is greater than any other points around it. The global maximum is also a local maximum.\n",
    "- **Local minimum** - A local minimum is a point where the value of the function at that point is lower than the points around it.\n",
    "\n",
    "- If there is a non-endpoint minimum or maximum point, at some point $x=a$ then the derivative at $x=a$, $f'(a) = 0 $ or $f'(a) = \\text{undefined}$\n",
    "- The points where the derivative is `0` or `undefined` are called as critical points.\n",
    "- A maximum or minimum point that is not an endpoint will be a critical point. But a critical point by itself does not have to be a maximum or minimum point."
   ]
  },
  {
   "cell_type": "markdown",
   "metadata": {},
   "source": [
    "### Finding Relative (local) Extrema (maxima and minima) (first derivative test)\n",
    "- For a critical point a, it is a **maximum point** if $f'(x)$ or the slope of the curve, switches signs from positive to negative as we cross $x=a$.\n",
    "- A critical point a is a **minimum point** if $f'(x)$ switches signs from negative to positive as we cross $x=a$\n",
    "\n",
    "https://www.khanacademy.org/math/ap-calculus-ab/ab-diff-analytical-applications-new/ab-5-4/a/applying-the-first-derivative-test-to-find-extrema\n",
    "https://www.khanacademy.org/math/ap-calculus-ab/ab-diff-analytical-applications-new/ab-5-4/a/relative-minima-and-maxima-review"
   ]
  },
  {
   "cell_type": "markdown",
   "metadata": {},
   "source": [
    "### Finding Absolute (global) Extrema (maxima and minima) (Extreme Value Theorem)\n",
    "- An **absolute maximum** point is a point where the function obtains its greatest possible value. \n",
    "- An **absolute minimum** point is a point where the function obtains its least possible value.\n",
    "- In this method we find all the critical points (where the function is either 0 or undefined) and then we find the value of the function at these points, the lowest value is the absolute minimum and the highest value of the function at one of these points will be the absolute maximum value for the given function.\n",
    "- For closed intervals we consider the endpoints of the function as critical points for getting absolute maximum and minimum values. For open intervals we can use critical points within that interval.\n",
    "\n",
    "**Further Details**\n",
    "- https://www.khanacademy.org/math/ap-calculus-ab/ab-diff-analytical-applications-new/ab-5-5/a/absolute-minima-and-maxima-review\n"
   ]
  },
  {
   "cell_type": "markdown",
   "metadata": {},
   "source": []
  }
 ],
 "metadata": {
  "kernelspec": {
   "display_name": "genai_env",
   "language": "python",
   "name": "python3"
  },
  "language_info": {
   "codemirror_mode": {
    "name": "ipython",
    "version": 3
   },
   "file_extension": ".py",
   "mimetype": "text/x-python",
   "name": "python",
   "nbconvert_exporter": "python",
   "pygments_lexer": "ipython3",
   "version": "3.11.4"
  }
 },
 "nbformat": 4,
 "nbformat_minor": 2
}
